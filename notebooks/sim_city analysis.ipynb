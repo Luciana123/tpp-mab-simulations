{
 "cells": [
  {
   "cell_type": "code",
   "execution_count": 11,
   "id": "347faa93",
   "metadata": {},
   "outputs": [
    {
     "name": "stdout",
     "output_type": "stream",
     "text": [
      "Requirement already satisfied: pandas in /Library/Frameworks/Python.framework/Versions/3.11/lib/python3.11/site-packages (2.1.1)\n",
      "Requirement already satisfied: numpy>=1.23.2 in /Library/Frameworks/Python.framework/Versions/3.11/lib/python3.11/site-packages (from pandas) (1.26.0)\n",
      "Requirement already satisfied: python-dateutil>=2.8.2 in /Users/luciana.piazzi/Library/Python/3.11/lib/python/site-packages (from pandas) (2.8.2)\n",
      "Requirement already satisfied: pytz>=2020.1 in /Library/Frameworks/Python.framework/Versions/3.11/lib/python3.11/site-packages (from pandas) (2023.3.post1)\n",
      "Requirement already satisfied: tzdata>=2022.1 in /Library/Frameworks/Python.framework/Versions/3.11/lib/python3.11/site-packages (from pandas) (2023.3)\n",
      "Requirement already satisfied: six>=1.5 in /Users/luciana.piazzi/Library/Python/3.11/lib/python/site-packages (from python-dateutil>=2.8.2->pandas) (1.16.0)\n",
      "\n",
      "\u001b[1m[\u001b[0m\u001b[34;49mnotice\u001b[0m\u001b[1;39;49m]\u001b[0m\u001b[39;49m A new release of pip is available: \u001b[0m\u001b[31;49m23.2.1\u001b[0m\u001b[39;49m -> \u001b[0m\u001b[32;49m23.3.2\u001b[0m\n",
      "\u001b[1m[\u001b[0m\u001b[34;49mnotice\u001b[0m\u001b[1;39;49m]\u001b[0m\u001b[39;49m To update, run: \u001b[0m\u001b[32;49mpip3 install --upgrade pip\u001b[0m\n",
      "Collecting matplotlib\n",
      "  Obtaining dependency information for matplotlib from https://files.pythonhosted.org/packages/ce/25/a557ee10ac9dce1300850024707ce1850a6958f1673a9194be878b99d631/matplotlib-3.8.2-cp311-cp311-macosx_11_0_arm64.whl.metadata\n",
      "  Downloading matplotlib-3.8.2-cp311-cp311-macosx_11_0_arm64.whl.metadata (5.8 kB)\n",
      "Collecting contourpy>=1.0.1 (from matplotlib)\n",
      "  Obtaining dependency information for contourpy>=1.0.1 from https://files.pythonhosted.org/packages/5b/ac/26fa1057f62beaa2af4c55c6ac733b114a403b746cfe0ce3dc6e4aec921a/contourpy-1.2.0-cp311-cp311-macosx_11_0_arm64.whl.metadata\n",
      "  Downloading contourpy-1.2.0-cp311-cp311-macosx_11_0_arm64.whl.metadata (5.8 kB)\n",
      "Collecting cycler>=0.10 (from matplotlib)\n",
      "  Obtaining dependency information for cycler>=0.10 from https://files.pythonhosted.org/packages/e7/05/c19819d5e3d95294a6f5947fb9b9629efb316b96de511b418c53d245aae6/cycler-0.12.1-py3-none-any.whl.metadata\n",
      "  Downloading cycler-0.12.1-py3-none-any.whl.metadata (3.8 kB)\n",
      "Collecting fonttools>=4.22.0 (from matplotlib)\n",
      "  Obtaining dependency information for fonttools>=4.22.0 from https://files.pythonhosted.org/packages/14/f9/14494b9b440a8ab0b8746d0c65b25c2a5ba22ed9a946d0895e2e4f39d06f/fonttools-4.47.0-cp311-cp311-macosx_10_9_universal2.whl.metadata\n",
      "  Downloading fonttools-4.47.0-cp311-cp311-macosx_10_9_universal2.whl.metadata (157 kB)\n",
      "\u001b[2K     \u001b[90m━━━━━━━━━━━━━━━━━━━━━━━━━━━━━━━━━━━━━━━\u001b[0m \u001b[32m157.2/157.2 kB\u001b[0m \u001b[31m1.9 MB/s\u001b[0m eta \u001b[36m0:00:00\u001b[0ma \u001b[36m0:00:01\u001b[0m\n",
      "\u001b[?25hCollecting kiwisolver>=1.3.1 (from matplotlib)\n",
      "  Obtaining dependency information for kiwisolver>=1.3.1 from https://files.pythonhosted.org/packages/4a/fe/23d7fa78f7c66086d196406beb1fb2eaf629dd7adc01c3453033303d17fa/kiwisolver-1.4.5-cp311-cp311-macosx_11_0_arm64.whl.metadata\n",
      "  Downloading kiwisolver-1.4.5-cp311-cp311-macosx_11_0_arm64.whl.metadata (6.4 kB)\n",
      "Requirement already satisfied: numpy<2,>=1.21 in /Library/Frameworks/Python.framework/Versions/3.11/lib/python3.11/site-packages (from matplotlib) (1.26.0)\n",
      "Requirement already satisfied: packaging>=20.0 in /Library/Frameworks/Python.framework/Versions/3.11/lib/python3.11/site-packages (from matplotlib) (20.9)\n",
      "Collecting pillow>=8 (from matplotlib)\n",
      "  Obtaining dependency information for pillow>=8 from https://files.pythonhosted.org/packages/46/ce/a84284ab66a278825109b03765d7411be3ff18250da44faa9fb5ea9a16a0/pillow-10.2.0-cp311-cp311-macosx_11_0_arm64.whl.metadata\n",
      "  Downloading pillow-10.2.0-cp311-cp311-macosx_11_0_arm64.whl.metadata (9.7 kB)\n",
      "Requirement already satisfied: pyparsing>=2.3.1 in /Library/Frameworks/Python.framework/Versions/3.11/lib/python3.11/site-packages (from matplotlib) (3.1.1)\n",
      "Requirement already satisfied: python-dateutil>=2.7 in /Users/luciana.piazzi/Library/Python/3.11/lib/python/site-packages (from matplotlib) (2.8.2)\n",
      "Requirement already satisfied: six>=1.5 in /Users/luciana.piazzi/Library/Python/3.11/lib/python/site-packages (from python-dateutil>=2.7->matplotlib) (1.16.0)\n",
      "Downloading matplotlib-3.8.2-cp311-cp311-macosx_11_0_arm64.whl (7.5 MB)\n",
      "\u001b[2K   \u001b[90m━━━━━━━━━━━━━━━━━━━━━━━━━━━━━━━━━━━━━━━━\u001b[0m \u001b[32m7.5/7.5 MB\u001b[0m \u001b[31m11.4 MB/s\u001b[0m eta \u001b[36m0:00:00\u001b[0m00:01\u001b[0m00:01\u001b[0m\n",
      "\u001b[?25hDownloading contourpy-1.2.0-cp311-cp311-macosx_11_0_arm64.whl (243 kB)\n",
      "\u001b[2K   \u001b[90m━━━━━━━━━━━━━━━━━━━━━━━━━━━━━━━━━━━━━━━━\u001b[0m \u001b[32m243.4/243.4 kB\u001b[0m \u001b[31m17.1 MB/s\u001b[0m eta \u001b[36m0:00:00\u001b[0m\n",
      "\u001b[?25hDownloading cycler-0.12.1-py3-none-any.whl (8.3 kB)\n",
      "Downloading fonttools-4.47.0-cp311-cp311-macosx_10_9_universal2.whl (2.8 MB)\n",
      "\u001b[2K   \u001b[90m━━━━━━━━━━━━━━━━━━━━━━━━━━━━━━━━━━━━━━━━\u001b[0m \u001b[32m2.8/2.8 MB\u001b[0m \u001b[31m19.6 MB/s\u001b[0m eta \u001b[36m0:00:00\u001b[0ma \u001b[36m0:00:01\u001b[0m\n",
      "\u001b[?25hDownloading kiwisolver-1.4.5-cp311-cp311-macosx_11_0_arm64.whl (66 kB)\n",
      "\u001b[2K   \u001b[90m━━━━━━━━━━━━━━━━━━━━━━━━━━━━━━━━━━━━━━━━\u001b[0m \u001b[32m66.2/66.2 kB\u001b[0m \u001b[31m5.7 MB/s\u001b[0m eta \u001b[36m0:00:00\u001b[0m\n",
      "\u001b[?25hDownloading pillow-10.2.0-cp311-cp311-macosx_11_0_arm64.whl (3.3 MB)\n",
      "\u001b[2K   \u001b[90m━━━━━━━━━━━━━━━━━━━━━━━━━━━━━━━━━━━━━━━━\u001b[0m \u001b[32m3.3/3.3 MB\u001b[0m \u001b[31m11.2 MB/s\u001b[0m eta \u001b[36m0:00:00\u001b[0ma \u001b[36m0:00:01\u001b[0m\n",
      "\u001b[?25hInstalling collected packages: pillow, kiwisolver, fonttools, cycler, contourpy, matplotlib\n",
      "Successfully installed contourpy-1.2.0 cycler-0.12.1 fonttools-4.47.0 kiwisolver-1.4.5 matplotlib-3.8.2 pillow-10.2.0\n",
      "\n",
      "\u001b[1m[\u001b[0m\u001b[34;49mnotice\u001b[0m\u001b[1;39;49m]\u001b[0m\u001b[39;49m A new release of pip is available: \u001b[0m\u001b[31;49m23.2.1\u001b[0m\u001b[39;49m -> \u001b[0m\u001b[32;49m23.3.2\u001b[0m\n",
      "\u001b[1m[\u001b[0m\u001b[34;49mnotice\u001b[0m\u001b[1;39;49m]\u001b[0m\u001b[39;49m To update, run: \u001b[0m\u001b[32;49mpip3 install --upgrade pip\u001b[0m\n",
      "Collecting seaborn\n",
      "  Obtaining dependency information for seaborn from https://files.pythonhosted.org/packages/2d/46/cf3fce41ffc543b6e94dadbe6b647559d591df446ec716e72c3b4ce71b34/seaborn-0.13.1-py3-none-any.whl.metadata\n",
      "  Downloading seaborn-0.13.1-py3-none-any.whl.metadata (5.4 kB)\n",
      "Requirement already satisfied: numpy!=1.24.0,>=1.20 in /Library/Frameworks/Python.framework/Versions/3.11/lib/python3.11/site-packages (from seaborn) (1.26.0)\n",
      "Requirement already satisfied: pandas>=1.2 in /Library/Frameworks/Python.framework/Versions/3.11/lib/python3.11/site-packages (from seaborn) (2.1.1)\n",
      "Requirement already satisfied: matplotlib!=3.6.1,>=3.4 in /Library/Frameworks/Python.framework/Versions/3.11/lib/python3.11/site-packages (from seaborn) (3.8.2)\n",
      "Requirement already satisfied: contourpy>=1.0.1 in /Library/Frameworks/Python.framework/Versions/3.11/lib/python3.11/site-packages (from matplotlib!=3.6.1,>=3.4->seaborn) (1.2.0)\n",
      "Requirement already satisfied: cycler>=0.10 in /Library/Frameworks/Python.framework/Versions/3.11/lib/python3.11/site-packages (from matplotlib!=3.6.1,>=3.4->seaborn) (0.12.1)\n",
      "Requirement already satisfied: fonttools>=4.22.0 in /Library/Frameworks/Python.framework/Versions/3.11/lib/python3.11/site-packages (from matplotlib!=3.6.1,>=3.4->seaborn) (4.47.0)\n",
      "Requirement already satisfied: kiwisolver>=1.3.1 in /Library/Frameworks/Python.framework/Versions/3.11/lib/python3.11/site-packages (from matplotlib!=3.6.1,>=3.4->seaborn) (1.4.5)\n",
      "Requirement already satisfied: packaging>=20.0 in /Library/Frameworks/Python.framework/Versions/3.11/lib/python3.11/site-packages (from matplotlib!=3.6.1,>=3.4->seaborn) (20.9)\n",
      "Requirement already satisfied: pillow>=8 in /Library/Frameworks/Python.framework/Versions/3.11/lib/python3.11/site-packages (from matplotlib!=3.6.1,>=3.4->seaborn) (10.2.0)\n",
      "Requirement already satisfied: pyparsing>=2.3.1 in /Library/Frameworks/Python.framework/Versions/3.11/lib/python3.11/site-packages (from matplotlib!=3.6.1,>=3.4->seaborn) (3.1.1)\n",
      "Requirement already satisfied: python-dateutil>=2.7 in /Users/luciana.piazzi/Library/Python/3.11/lib/python/site-packages (from matplotlib!=3.6.1,>=3.4->seaborn) (2.8.2)\n",
      "Requirement already satisfied: pytz>=2020.1 in /Library/Frameworks/Python.framework/Versions/3.11/lib/python3.11/site-packages (from pandas>=1.2->seaborn) (2023.3.post1)\n",
      "Requirement already satisfied: tzdata>=2022.1 in /Library/Frameworks/Python.framework/Versions/3.11/lib/python3.11/site-packages (from pandas>=1.2->seaborn) (2023.3)\n",
      "Requirement already satisfied: six>=1.5 in /Users/luciana.piazzi/Library/Python/3.11/lib/python/site-packages (from python-dateutil>=2.7->matplotlib!=3.6.1,>=3.4->seaborn) (1.16.0)\n",
      "Downloading seaborn-0.13.1-py3-none-any.whl (294 kB)\n"
     ]
    },
    {
     "name": "stdout",
     "output_type": "stream",
     "text": [
      "\u001b[2K   \u001b[90m━━━━━━━━━━━━━━━━━━━━━━━━━━━━━━━━━━━━━━━━\u001b[0m \u001b[32m294.8/294.8 kB\u001b[0m \u001b[31m2.6 MB/s\u001b[0m eta \u001b[36m0:00:00\u001b[0ma \u001b[36m0:00:01\u001b[0m\n",
      "\u001b[?25hInstalling collected packages: seaborn\n",
      "Successfully installed seaborn-0.13.1\n",
      "\n",
      "\u001b[1m[\u001b[0m\u001b[34;49mnotice\u001b[0m\u001b[1;39;49m]\u001b[0m\u001b[39;49m A new release of pip is available: \u001b[0m\u001b[31;49m23.2.1\u001b[0m\u001b[39;49m -> \u001b[0m\u001b[32;49m23.3.2\u001b[0m\n",
      "\u001b[1m[\u001b[0m\u001b[34;49mnotice\u001b[0m\u001b[1;39;49m]\u001b[0m\u001b[39;49m To update, run: \u001b[0m\u001b[32;49mpip3 install --upgrade pip\u001b[0m\n"
     ]
    }
   ],
   "source": [
    "!pip3 install pandas\n",
    "!pip3 install matplotlib\n",
    "!pip3 install seaborn"
   ]
  },
  {
   "cell_type": "code",
   "execution_count": 2,
   "id": "6c7609ad",
   "metadata": {},
   "outputs": [
    {
     "data": {
      "text/html": [
       "<div>\n",
       "<style scoped>\n",
       "    .dataframe tbody tr th:only-of-type {\n",
       "        vertical-align: middle;\n",
       "    }\n",
       "\n",
       "    .dataframe tbody tr th {\n",
       "        vertical-align: top;\n",
       "    }\n",
       "\n",
       "    .dataframe thead th {\n",
       "        text-align: right;\n",
       "    }\n",
       "</style>\n",
       "<table border=\"1\" class=\"dataframe\">\n",
       "  <thead>\n",
       "    <tr style=\"text-align: right;\">\n",
       "      <th></th>\n",
       "      <th>time</th>\n",
       "      <th>time_sim</th>\n",
       "      <th>age_sim</th>\n",
       "      <th>hour_sim</th>\n",
       "      <th>arm_selected</th>\n",
       "      <th>reward</th>\n",
       "    </tr>\n",
       "  </thead>\n",
       "  <tbody>\n",
       "    <tr>\n",
       "      <th>0</th>\n",
       "      <td>2024-01-12 18:00:20</td>\n",
       "      <td>2024-01-12 12:00:12</td>\n",
       "      <td>23</td>\n",
       "      <td>12</td>\n",
       "      <td>option2</td>\n",
       "      <td>1</td>\n",
       "    </tr>\n",
       "    <tr>\n",
       "      <th>1</th>\n",
       "      <td>2024-01-12 18:00:20</td>\n",
       "      <td>2024-01-13 13:00:15</td>\n",
       "      <td>49</td>\n",
       "      <td>13</td>\n",
       "      <td>option3</td>\n",
       "      <td>1</td>\n",
       "    </tr>\n",
       "    <tr>\n",
       "      <th>2</th>\n",
       "      <td>2024-01-12 18:00:20</td>\n",
       "      <td>2024-01-12 21:00:04</td>\n",
       "      <td>10</td>\n",
       "      <td>21</td>\n",
       "      <td>option1</td>\n",
       "      <td>0</td>\n",
       "    </tr>\n",
       "    <tr>\n",
       "      <th>3</th>\n",
       "      <td>2024-01-12 18:00:20</td>\n",
       "      <td>2024-01-12 17:00:00</td>\n",
       "      <td>101</td>\n",
       "      <td>17</td>\n",
       "      <td>option3</td>\n",
       "      <td>1</td>\n",
       "    </tr>\n",
       "    <tr>\n",
       "      <th>4</th>\n",
       "      <td>2024-01-12 18:00:20</td>\n",
       "      <td>2024-01-13 11:00:40</td>\n",
       "      <td>36</td>\n",
       "      <td>11</td>\n",
       "      <td>option3</td>\n",
       "      <td>1</td>\n",
       "    </tr>\n",
       "    <tr>\n",
       "      <th>...</th>\n",
       "      <td>...</td>\n",
       "      <td>...</td>\n",
       "      <td>...</td>\n",
       "      <td>...</td>\n",
       "      <td>...</td>\n",
       "      <td>...</td>\n",
       "    </tr>\n",
       "    <tr>\n",
       "      <th>2409</th>\n",
       "      <td>2024-01-12 18:01:15</td>\n",
       "      <td>2024-01-12 15:00:02</td>\n",
       "      <td>19</td>\n",
       "      <td>15</td>\n",
       "      <td>option1</td>\n",
       "      <td>0</td>\n",
       "    </tr>\n",
       "    <tr>\n",
       "      <th>2410</th>\n",
       "      <td>2024-01-12 18:01:15</td>\n",
       "      <td>2024-01-12 20:00:53</td>\n",
       "      <td>22</td>\n",
       "      <td>20</td>\n",
       "      <td>option2</td>\n",
       "      <td>1</td>\n",
       "    </tr>\n",
       "    <tr>\n",
       "      <th>2411</th>\n",
       "      <td>2024-01-12 18:01:15</td>\n",
       "      <td>2024-01-12 06:00:58</td>\n",
       "      <td>78</td>\n",
       "      <td>6</td>\n",
       "      <td>option3</td>\n",
       "      <td>1</td>\n",
       "    </tr>\n",
       "    <tr>\n",
       "      <th>2412</th>\n",
       "      <td>2024-01-12 18:01:15</td>\n",
       "      <td>2024-01-13 14:00:34</td>\n",
       "      <td>95</td>\n",
       "      <td>14</td>\n",
       "      <td>option3</td>\n",
       "      <td>1</td>\n",
       "    </tr>\n",
       "    <tr>\n",
       "      <th>2413</th>\n",
       "      <td>2024-01-12 18:01:15</td>\n",
       "      <td>2024-01-12 10:00:08</td>\n",
       "      <td>47</td>\n",
       "      <td>10</td>\n",
       "      <td>option3</td>\n",
       "      <td>1</td>\n",
       "    </tr>\n",
       "  </tbody>\n",
       "</table>\n",
       "<p>2414 rows × 6 columns</p>\n",
       "</div>"
      ],
      "text/plain": [
       "                     time             time_sim  age_sim  hour_sim  \\\n",
       "0     2024-01-12 18:00:20  2024-01-12 12:00:12       23        12   \n",
       "1     2024-01-12 18:00:20  2024-01-13 13:00:15       49        13   \n",
       "2     2024-01-12 18:00:20  2024-01-12 21:00:04       10        21   \n",
       "3     2024-01-12 18:00:20  2024-01-12 17:00:00      101        17   \n",
       "4     2024-01-12 18:00:20  2024-01-13 11:00:40       36        11   \n",
       "...                   ...                  ...      ...       ...   \n",
       "2409  2024-01-12 18:01:15  2024-01-12 15:00:02       19        15   \n",
       "2410  2024-01-12 18:01:15  2024-01-12 20:00:53       22        20   \n",
       "2411  2024-01-12 18:01:15  2024-01-12 06:00:58       78         6   \n",
       "2412  2024-01-12 18:01:15  2024-01-13 14:00:34       95        14   \n",
       "2413  2024-01-12 18:01:15  2024-01-12 10:00:08       47        10   \n",
       "\n",
       "     arm_selected  reward  \n",
       "0         option2       1  \n",
       "1         option3       1  \n",
       "2         option1       0  \n",
       "3         option3       1  \n",
       "4         option3       1  \n",
       "...           ...     ...  \n",
       "2409      option1       0  \n",
       "2410      option2       1  \n",
       "2411      option3       1  \n",
       "2412      option3       1  \n",
       "2413      option3       1  \n",
       "\n",
       "[2414 rows x 6 columns]"
      ]
     },
     "execution_count": 2,
     "metadata": {},
     "output_type": "execute_result"
    }
   ],
   "source": [
    "import pandas as pd\n",
    "\n",
    "df = pd.read_csv('./sim_city_results_01.csv')\n",
    "\n",
    "df"
   ]
  },
  {
   "cell_type": "code",
   "execution_count": 3,
   "id": "17ad4352",
   "metadata": {},
   "outputs": [
    {
     "name": "stdout",
     "output_type": "stream",
     "text": [
      "           age_sim     hour_sim       reward\n",
      "count  2414.000000  2414.000000  2414.000000\n",
      "mean     59.300331    11.475145     0.530655\n",
      "std      34.556232     6.847399     0.499163\n",
      "min       0.000000     0.000000     0.000000\n",
      "25%      30.000000     5.000000     0.000000\n",
      "50%      58.000000    12.000000     1.000000\n",
      "75%      90.000000    17.000000     1.000000\n",
      "max     119.000000    23.000000     1.000000\n",
      "                     time             time_sim  age_sim  hour_sim  \\\n",
      "1     2024-01-12 18:00:20  2024-01-13 13:00:15       49        13   \n",
      "3     2024-01-12 18:00:20  2024-01-12 17:00:00      101        17   \n",
      "4     2024-01-12 18:00:20  2024-01-13 11:00:40       36        11   \n",
      "5     2024-01-12 18:00:20  2024-01-12 10:00:54       96        10   \n",
      "6     2024-01-12 18:00:20  2024-01-12 03:00:27       99         3   \n",
      "...                   ...                  ...      ...       ...   \n",
      "2405  2024-01-12 18:01:15  2024-01-13 01:00:57       37         1   \n",
      "2408  2024-01-12 18:01:15  2024-01-12 16:00:09      113        16   \n",
      "2411  2024-01-12 18:01:15  2024-01-12 06:00:58       78         6   \n",
      "2412  2024-01-12 18:01:15  2024-01-13 14:00:34       95        14   \n",
      "2413  2024-01-12 18:01:15  2024-01-12 10:00:08       47        10   \n",
      "\n",
      "     arm_selected  reward  \n",
      "1         option3       1  \n",
      "3         option3       1  \n",
      "4         option3       1  \n",
      "5         option3       1  \n",
      "6         option3       1  \n",
      "...           ...     ...  \n",
      "2405      option3       1  \n",
      "2408      option3       1  \n",
      "2411      option3       1  \n",
      "2412      option3       1  \n",
      "2413      option3       1  \n",
      "\n",
      "[1802 rows x 6 columns]\n"
     ]
    },
    {
     "data": {
      "image/png": "[encoded data removed]",
      "text/plain": [
       "<Figure size 640x480 with 1 Axes>"
      ]
     },
     "metadata": {},
     "output_type": "display_data"
    }
   ],
   "source": [
    "# Summary statistics\n",
    "summary_stats = df.describe()\n",
    "print(summary_stats)\n",
    "\n",
    "# Filter data\n",
    "filtered_data = df[df['age_sim'] > 30]\n",
    "print(filtered_data)\n",
    "\n",
    "# Visualization (assuming you have matplotlib or seaborn installed)\n",
    "import matplotlib.pyplot as plt\n",
    "import seaborn as sns\n",
    "\n",
    "# Plot age distribution\n",
    "sns.histplot(df['age_sim'])\n",
    "plt.title('Age Distribution')\n",
    "plt.show()"
   ]
  },
  {
   "cell_type": "code",
   "execution_count": 5,
   "id": "13e95d8c",
   "metadata": {},
   "outputs": [
    {
     "data": {
      "image/png": "[encoded data removed]",
      "text/plain": [
       "<Figure size 1000x600 with 1 Axes>"
      ]
     },
     "metadata": {},
     "output_type": "display_data"
    }
   ],
   "source": [
    "filtered_data = df[(df['age_sim'] >= 0) & (df['age_sim'] <= 13) & (df['hour_sim'] >= 7) & (df['hour_sim'] <= 10)]\n",
    "\n",
    "grouped_data = filtered_data.groupby('arm_selected')['reward'].sum().reset_index()\n",
    "\n",
    "plt.figure(figsize=(10, 6))\n",
    "sns.barplot(x='arm_selected', y='reward', data=grouped_data)\n",
    "plt.title('Sum of Reward by Branch (Filtered Ages 0-13, Hours 7-10)')\n",
    "plt.xlabel('Branch')\n",
    "plt.ylabel('Sum of Reward')\n",
    "plt.show()"
   ]
  },
  {
   "cell_type": "code",
   "execution_count": 54,
   "id": "a3f145fd",
   "metadata": {},
   "outputs": [
    {
     "data": {
      "image/png": "[encoded data removed]",
      "text/plain": [
       "<Figure size 1000x600 with 1 Axes>"
      ]
     },
     "metadata": {},
     "output_type": "display_data"
    }
   ],
   "source": [
    "import numpy as np\n",
    "filtered_data = df[(df['age_sim'] >= 25) & (df['age_sim'] <= 50) & (df['hour_sim'] >= 0) & (df['hour_sim'] <= 23)]\n",
    "\n",
    "grouped_data = filtered_data.groupby('arm_selected')['reward'].sum().reset_index()\n",
    "\n",
    "plt.figure(figsize=(10, 6))\n",
    "sns.barplot(x='arm_selected', y='reward', data=grouped_data)\n",
    "plt.title('Sum of Reward by Arm (Filtered Ages 25-50, Hours 0-23)')\n",
    "plt.xlabel('Arm')\n",
    "plt.ylabel('Sum of Reward')\n",
    "plt.show()"
   ]
  },
  {
   "cell_type": "code",
   "execution_count": 27,
   "id": "4422b2f2",
   "metadata": {},
   "outputs": [
    {
     "name": "stdout",
     "output_type": "stream",
     "text": [
      "88.5\n",
      "71\n",
      "177\n",
      "17.5\n"
     ]
    }
   ],
   "source": [
    "# Results of teen - morning/day\n",
    "# Bernoulli with p = 0.9\n",
    "# Best reward (expected) = 53 (pulls) * 0.9 p\n",
    "\n",
    "filtered_data = df[(df['age_sim'] >= 0) & (df['age_sim'] <= 13) & (df['hour_sim'] >= 10) & (df['hour_sim'] <= 25)]\n",
    "\n",
    "len(filtered_data)\n",
    "sum = len(filtered_data)*0.5\n",
    "print(sum)\n",
    "\n",
    "column_sum = filtered_data['reward'].sum()\n",
    "print(column_sum)\n",
    "print(len(filtered_data))\n",
    "print(88.5-71)\n",
    "\n",
    "# Regret 17 - 177 pulls"
   ]
  },
  {
   "cell_type": "code",
   "execution_count": 29,
   "id": "faccacb9",
   "metadata": {},
   "outputs": [
    {
     "name": "stdout",
     "output_type": "stream",
     "text": [
      "95.89999999999999\n",
      "51\n",
      "137\n",
      "44.89\n"
     ]
    }
   ],
   "source": [
    "filtered_data = df[(df['age_sim'] >= 14) & (df['age_sim'] <= 25) & (df['hour_sim'] >= 7) & (df['hour_sim'] <= 20)]\n",
    "len(filtered_data)\n",
    "sum = len(filtered_data)*0.7\n",
    "print(sum)\n",
    "\n",
    "column_sum = filtered_data['reward'].sum()\n",
    "print(column_sum)\n",
    "print(len(filtered_data))\n",
    "print(95.89-51)\n",
    "# Regret 44 pulls 137"
   ]
  },
  {
   "cell_type": "code",
   "execution_count": 41,
   "id": "6d547400",
   "metadata": {},
   "outputs": [
    {
     "data": {
      "text/html": [
       "<div>\n",
       "<style scoped>\n",
       "    .dataframe tbody tr th:only-of-type {\n",
       "        vertical-align: middle;\n",
       "    }\n",
       "\n",
       "    .dataframe tbody tr th {\n",
       "        vertical-align: top;\n",
       "    }\n",
       "\n",
       "    .dataframe thead th {\n",
       "        text-align: right;\n",
       "    }\n",
       "</style>\n",
       "<table border=\"1\" class=\"dataframe\">\n",
       "  <thead>\n",
       "    <tr style=\"text-align: right;\">\n",
       "      <th></th>\n",
       "      <th>time</th>\n",
       "      <th>time_sim</th>\n",
       "      <th>age_sim</th>\n",
       "      <th>hour_sim</th>\n",
       "      <th>arm_selected</th>\n",
       "      <th>reward</th>\n",
       "    </tr>\n",
       "  </thead>\n",
       "  <tbody>\n",
       "    <tr>\n",
       "      <th>2</th>\n",
       "      <td>2024-01-12 18:00:20</td>\n",
       "      <td>2024-01-12 21:00:04</td>\n",
       "      <td>10</td>\n",
       "      <td>21</td>\n",
       "      <td>option1</td>\n",
       "      <td>0</td>\n",
       "    </tr>\n",
       "    <tr>\n",
       "      <th>11</th>\n",
       "      <td>2024-01-12 18:00:20</td>\n",
       "      <td>2024-01-13 07:00:22</td>\n",
       "      <td>10</td>\n",
       "      <td>7</td>\n",
       "      <td>option2</td>\n",
       "      <td>0</td>\n",
       "    </tr>\n",
       "    <tr>\n",
       "      <th>14</th>\n",
       "      <td>2024-01-12 18:00:20</td>\n",
       "      <td>2024-01-13 00:00:09</td>\n",
       "      <td>12</td>\n",
       "      <td>0</td>\n",
       "      <td>option2</td>\n",
       "      <td>0</td>\n",
       "    </tr>\n",
       "    <tr>\n",
       "      <th>16</th>\n",
       "      <td>2024-01-12 18:00:20</td>\n",
       "      <td>2024-01-13 03:00:00</td>\n",
       "      <td>0</td>\n",
       "      <td>3</td>\n",
       "      <td>option1</td>\n",
       "      <td>0</td>\n",
       "    </tr>\n",
       "    <tr>\n",
       "      <th>37</th>\n",
       "      <td>2024-01-12 18:00:21</td>\n",
       "      <td>2024-01-12 22:00:20</td>\n",
       "      <td>12</td>\n",
       "      <td>22</td>\n",
       "      <td>option2</td>\n",
       "      <td>0</td>\n",
       "    </tr>\n",
       "    <tr>\n",
       "      <th>...</th>\n",
       "      <td>...</td>\n",
       "      <td>...</td>\n",
       "      <td>...</td>\n",
       "      <td>...</td>\n",
       "      <td>...</td>\n",
       "      <td>...</td>\n",
       "    </tr>\n",
       "    <tr>\n",
       "      <th>2338</th>\n",
       "      <td>2024-01-12 18:01:14</td>\n",
       "      <td>2024-01-13 16:00:08</td>\n",
       "      <td>8</td>\n",
       "      <td>16</td>\n",
       "      <td>option1</td>\n",
       "      <td>0</td>\n",
       "    </tr>\n",
       "    <tr>\n",
       "      <th>2341</th>\n",
       "      <td>2024-01-12 18:01:14</td>\n",
       "      <td>2024-01-12 16:00:23</td>\n",
       "      <td>8</td>\n",
       "      <td>16</td>\n",
       "      <td>option1</td>\n",
       "      <td>1</td>\n",
       "    </tr>\n",
       "    <tr>\n",
       "      <th>2349</th>\n",
       "      <td>2024-01-12 18:01:14</td>\n",
       "      <td>2024-01-13 17:00:21</td>\n",
       "      <td>12</td>\n",
       "      <td>17</td>\n",
       "      <td>option2</td>\n",
       "      <td>0</td>\n",
       "    </tr>\n",
       "    <tr>\n",
       "      <th>2365</th>\n",
       "      <td>2024-01-12 18:01:14</td>\n",
       "      <td>2024-01-13 02:00:57</td>\n",
       "      <td>9</td>\n",
       "      <td>2</td>\n",
       "      <td>option3</td>\n",
       "      <td>0</td>\n",
       "    </tr>\n",
       "    <tr>\n",
       "      <th>2401</th>\n",
       "      <td>2024-01-12 18:01:15</td>\n",
       "      <td>2024-01-13 05:00:03</td>\n",
       "      <td>6</td>\n",
       "      <td>5</td>\n",
       "      <td>option1</td>\n",
       "      <td>1</td>\n",
       "    </tr>\n",
       "  </tbody>\n",
       "</table>\n",
       "<p>179 rows × 6 columns</p>\n",
       "</div>"
      ],
      "text/plain": [
       "                     time             time_sim  age_sim  hour_sim  \\\n",
       "2     2024-01-12 18:00:20  2024-01-12 21:00:04       10        21   \n",
       "11    2024-01-12 18:00:20  2024-01-13 07:00:22       10         7   \n",
       "14    2024-01-12 18:00:20  2024-01-13 00:00:09       12         0   \n",
       "16    2024-01-12 18:00:20  2024-01-13 03:00:00        0         3   \n",
       "37    2024-01-12 18:00:21  2024-01-12 22:00:20       12        22   \n",
       "...                   ...                  ...      ...       ...   \n",
       "2338  2024-01-12 18:01:14  2024-01-13 16:00:08        8        16   \n",
       "2341  2024-01-12 18:01:14  2024-01-12 16:00:23        8        16   \n",
       "2349  2024-01-12 18:01:14  2024-01-13 17:00:21       12        17   \n",
       "2365  2024-01-12 18:01:14  2024-01-13 02:00:57        9         2   \n",
       "2401  2024-01-12 18:01:15  2024-01-13 05:00:03        6         5   \n",
       "\n",
       "     arm_selected  reward  \n",
       "2         option1       0  \n",
       "11        option2       0  \n",
       "14        option2       0  \n",
       "16        option1       0  \n",
       "37        option2       0  \n",
       "...           ...     ...  \n",
       "2338      option1       0  \n",
       "2341      option1       1  \n",
       "2349      option2       0  \n",
       "2365      option3       0  \n",
       "2401      option1       1  \n",
       "\n",
       "[179 rows x 6 columns]"
      ]
     },
     "execution_count": 41,
     "metadata": {},
     "output_type": "execute_result"
    }
   ],
   "source": [
    "group1 = df[(df['age_sim'] >= 0) & (df['age_sim'] <= 13) & (df['hour_sim'] >= 7) & (df['hour_sim'] <= 15)]\n",
    "group2 = df[((df['age_sim'] >= 0) & (df['age_sim'] <= 13)) & \n",
    "            ((df['hour_sim'] >= 16) & (df['hour_sim'] <= 24) | (df['hour_sim'] >= 0) & (df['hour_sim'] <= 7))]\n"
   ]
  },
  {
   "cell_type": "code",
   "execution_count": 46,
   "id": "b8365d65",
   "metadata": {},
   "outputs": [
    {
     "data": {
      "text/plain": [
       "2089.3"
      ]
     },
     "execution_count": 46,
     "metadata": {},
     "output_type": "execute_result"
    }
   ],
   "source": [
    "\n",
    "\n",
    "group3 = df[(df['age_sim'] >= 14) & (df['age_sim'] <= 25) & (df['hour_sim'] >= 7) & (df['hour_sim'] <= 20)]\n",
    "\n",
    "group4 = df[(df['age_sim'] >= 14) & (df['age_sim'] <= 25) & \n",
    "            ((df['hour_sim'] >= 21) & (df['hour_sim'] <= 24) | (df['hour_sim'] >= 0) & (df['hour_sim'] <= 7))]\n",
    "\n",
    "group5 = df[(df['age_sim'] >= 25) & (df['age_sim'] <= 50) & (df['hour_sim'] >= 0) & (df['hour_sim'] <= 25)]\n",
    "\n",
    "group6 = df[(df['age_sim'] >= 50) & (df['age_sim'] <= 200) & (df['hour_sim'] >= 7) & (df['hour_sim'] <= 10)]\n",
    "group7 = df[(df['age_sim'] >= 50) & (df['age_sim'] <= 200) \n",
    "            & (((df['hour_sim'] >= 11) & (df['hour_sim'] <= 24)) | ((df['hour_sim'] >= 0) & (df['hour_sim'] <= 7)))]\n",
    "\n",
    "best_reward_group1 = len(group1) * 0.9\n",
    "best_reward_group2 = len(group2) * 0.5\n",
    "best_reward_group3 = len(group3) * 0.7\n",
    "best_reward_group4 = len(group4) * 0.9\n",
    "best_reward_group5 = len(group5) * 0.9 \n",
    "best_reward_group6 = len(group6) * 0.5\n",
    "best_reward_group7 = len(group7) * 0.9\n",
    "\n",
    "best_reward = best_reward_group1 + best_reward_group2 +\n",
    "              best_reward_group3 + best_reward_group4 + \n",
    "              best_reward_group5 + best_reward_group6 +\n",
    "              best_reward_group7\n",
    "best_reward"
   ]
  },
  {
   "cell_type": "code",
   "execution_count": 48,
   "id": "5319dcbc",
   "metadata": {},
   "outputs": [
    {
     "data": {
      "text/plain": [
       "1281"
      ]
     },
     "execution_count": 48,
     "metadata": {},
     "output_type": "execute_result"
    }
   ],
   "source": [
    "column_sum = df['reward'].sum()\n",
    "column_sum"
   ]
  },
  {
   "cell_type": "code",
   "execution_count": 49,
   "id": "6745c999",
   "metadata": {},
   "outputs": [
    {
     "data": {
      "text/plain": [
       "2414"
      ]
     },
     "execution_count": 49,
     "metadata": {},
     "output_type": "execute_result"
    }
   ],
   "source": [
    "len(df)"
   ]
  },
  {
   "cell_type": "code",
   "execution_count": 52,
   "id": "55e8469c",
   "metadata": {},
   "outputs": [
    {
     "name": "stdout",
     "output_type": "stream",
     "text": [
      "808\n",
      "1281\n"
     ]
    }
   ],
   "source": [
    "Regret = 2089 - 1281\n",
    "Reward = 1281\n",
    "\n",
    "print(Regret)\n",
    "print(Reward)\n",
    "\n",
    "Regret de 808 en 2414 tiradas en un experimento con un epsilon greedy de 0.5\n",
    "Reward total de 1281"
   ]
  }
 ],
 "metadata": {
  "kernelspec": {
   "display_name": "Python 3 (ipykernel)",
   "language": "python",
   "name": "python3"
  },
  "language_info": {
   "codemirror_mode": {
    "name": "ipython",
    "version": 3
   },
   "file_extension": ".py",
   "mimetype": "text/x-python",
   "name": "python",
   "nbconvert_exporter": "python",
   "pygments_lexer": "ipython3",
   "version": "3.11.5"
  }
 },
 "nbformat": 4,
 "nbformat_minor": 5
}
