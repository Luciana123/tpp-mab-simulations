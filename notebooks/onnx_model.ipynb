{
 "cells": [
  {
   "cell_type": "code",
   "execution_count": 1,
   "metadata": {
    "ExecuteTime": {
     "end_time": "2023-09-21T19:47:05.022152Z",
     "start_time": "2023-09-21T19:47:04.983742Z"
    }
   },
   "outputs": [
    {
     "name": "stdout",
     "output_type": "stream",
     "text": [
      "   Age  Is_Female  Is_Male  Is_Other  Is_Morning  Is_Noon  Is_Evening  \\\n",
      "0   42          1        1         0           0        1           0   \n",
      "1   32          0        0         1           0        0           0   \n",
      "2   18          1        1         0           1        0           1   \n",
      "3   27          0        1         1           0        1           1   \n",
      "4   32          1        0         1           0        0           1   \n",
      "\n",
      "   Is_Night  Click  \n",
      "0         0      0  \n",
      "1         0      0  \n",
      "2         1      0  \n",
      "3         1      1  \n",
      "4         0      1  \n"
     ]
    }
   ],
   "source": [
    "import pandas as pd\n",
    "import random\n",
    "\n",
    "# First generate a random dataset with 3 features: age, gender and daytime, each point is either click or no click.\n",
    "\n",
    "data = pd.DataFrame()\n",
    "\n",
    "num_data_points = 1000000\n",
    "\n",
    "ages = [random.randint(18, 60) for _ in range(num_data_points)]\n",
    "is_fem = [random.choice([0,1]) for _ in range(num_data_points)]\n",
    "is_other = [random.choice([0,1]) for _ in range(num_data_points)]\n",
    "is_male = [random.choice([0,1]) for _ in range(num_data_points)]\n",
    "\n",
    "is_morning = [random.choice([0,1]) for _ in range(num_data_points)]\n",
    "is_noon = [random.choice([0,1]) for _ in range(num_data_points)]\n",
    "is_evening = [random.choice([0,1]) for _ in range(num_data_points)]\n",
    "is_night = [random.choice([0,1]) for _ in range(num_data_points)]\n",
    "\n",
    "clicks = [random.choice([0, 1]) for _ in range(num_data_points)]\n",
    "\n",
    "data['Age'] = ages\n",
    "data['Is_Female'] = is_fem\n",
    "data['Is_Male'] = is_male\n",
    "data['Is_Other'] = is_other\n",
    "data['Is_Morning'] = is_morning\n",
    "data['Is_Noon'] = is_noon\n",
    "data['Is_Evening'] = is_evening\n",
    "data['Is_Night'] = is_night\n",
    "data['Click'] = clicks\n",
    "\n",
    "print(data.head())"
   ]
  },
  {
   "cell_type": "code",
   "execution_count": 2,
   "metadata": {
    "ExecuteTime": {
     "end_time": "2023-09-21T19:44:39.802218Z",
     "start_time": "2023-09-21T19:44:39.756324Z"
    }
   },
   "outputs": [],
   "source": [
    "from sklearn.model_selection import train_test_split\n",
    "from sklearn.metrics import accuracy_score, classification_report\n",
    "\n",
    "# Separate features (X) and labels (y)\n",
    "X = data[['Age', 'Is_Female', 'Is_Male', 'Is_Other', 'Is_Morning', 'Is_Noon', 'Is_Evening', 'Is_Night']]\n",
    "y = data['Click']"
   ]
  },
  {
   "cell_type": "code",
   "execution_count": 3,
   "metadata": {
    "ExecuteTime": {
     "end_time": "2023-09-21T19:44:45.269348Z",
     "start_time": "2023-09-21T19:44:44.819385Z"
    }
   },
   "outputs": [
    {
     "name": "stdout",
     "output_type": "stream",
     "text": [
      "[LightGBM] [Info] Number of positive: 399918, number of negative: 400082\n",
      "[LightGBM] [Warning] Auto-choosing row-wise multi-threading, the overhead of testing was 0.007776 seconds.\n",
      "You can set `force_row_wise=true` to remove the overhead.\n",
      "And if memory is not enough, you can set `force_col_wise=true`.\n",
      "[LightGBM] [Info] Total Bins 58\n",
      "[LightGBM] [Info] Number of data points in the train set: 800000, number of used features: 8\n",
      "[LightGBM] [Info] [binary:BoostFromScore]: pavg=0.499897 -> initscore=-0.000410\n",
      "[LightGBM] [Info] Start training from score -0.000410\n",
      "Accuracy: 0.50023\n",
      "Classification Report:\n",
      "               precision    recall  f1-score   support\n",
      "\n",
      "           0       0.50      0.51      0.50    100071\n",
      "           1       0.50      0.49      0.50     99929\n",
      "\n",
      "    accuracy                           0.50    200000\n",
      "   macro avg       0.50      0.50      0.50    200000\n",
      "weighted avg       0.50      0.50      0.50    200000\n",
      "\n"
     ]
    }
   ],
   "source": [
    "import lightgbm as lgb\n",
    "\n",
    "X_train, X_test, y_train, y_test = train_test_split(X, y, test_size=0.2, random_state=42)\n",
    "\n",
    "clf = lgb.LGBMClassifier()\n",
    "\n",
    "clf.fit(X_train, y_train)\n",
    "\n",
    "# Make predictions on the test data\n",
    "y_pred = clf.predict(X_test)\n",
    "\n",
    "# Convert predicted probabilities to binary class labels (0 or 1)\n",
    "y_pred_binary = [1 if p >= 0.5 else 0 for p in y_pred]\n",
    "\n",
    "# Evaluate the model\n",
    "accuracy = accuracy_score(y_test, y_pred_binary)\n",
    "report = classification_report(y_test, y_pred_binary)\n",
    "\n",
    "print(f\"Accuracy: {accuracy}\")\n",
    "print(\"Classification Report:\\n\", report)"
   ]
  },
  {
   "cell_type": "code",
   "execution_count": 4,
   "metadata": {},
   "outputs": [
    {
     "data": {
      "text/plain": [
       "['Age',\n",
       " 'Is_Female',\n",
       " 'Is_Male',\n",
       " 'Is_Other',\n",
       " 'Is_Morning',\n",
       " 'Is_Noon',\n",
       " 'Is_Evening',\n",
       " 'Is_Night']"
      ]
     },
     "execution_count": 4,
     "metadata": {},
     "output_type": "execute_result"
    }
   ],
   "source": [
    "clf.feature_name_"
   ]
  },
  {
   "cell_type": "code",
   "execution_count": 5,
   "metadata": {
    "scrolled": true
   },
   "outputs": [
    {
     "ename": "ImportError",
     "evalue": "cannot import name 'FEATURE_IMPORTANCE_TYPE_MAPPER' from 'lightgbm.basic' (/Library/Frameworks/Python.framework/Versions/3.11/lib/python3.11/site-packages/lightgbm/basic.py)",
     "output_type": "error",
     "traceback": [
      "\u001b[0;31m---------------------------------------------------------------------------\u001b[0m",
      "\u001b[0;31mImportError\u001b[0m                               Traceback (most recent call last)",
      "Cell \u001b[0;32mIn[5], line 7\u001b[0m\n\u001b[1;32m      5\u001b[0m features\u001b[38;5;241m=\u001b[39m\u001b[38;5;28mstr\u001b[39m(clf\u001b[38;5;241m.\u001b[39mfeature_name_)\n\u001b[1;32m      6\u001b[0m initial_types \u001b[38;5;241m=\u001b[39m [(\u001b[38;5;124m'\u001b[39m\u001b[38;5;124minput\u001b[39m\u001b[38;5;124m'\u001b[39m, FloatTensorType([\u001b[38;5;241m1\u001b[39m, X_train\u001b[38;5;241m.\u001b[39mshape[\u001b[38;5;241m1\u001b[39m]]))]\n\u001b[0;32m----> 7\u001b[0m onnx_model \u001b[38;5;241m=\u001b[39m \u001b[43mconvert_lightgbm\u001b[49m\u001b[43m(\u001b[49m\u001b[43mclf\u001b[49m\u001b[43m,\u001b[49m\u001b[43m \u001b[49m\u001b[43minitial_types\u001b[49m\u001b[38;5;241;43m=\u001b[39;49m\u001b[43minitial_types\u001b[49m\u001b[43m,\u001b[49m\u001b[43m \u001b[49m\u001b[43mzipmap\u001b[49m\u001b[38;5;241;43m=\u001b[39;49m\u001b[38;5;28;43;01mFalse\u001b[39;49;00m\u001b[43m)\u001b[49m\n",
      "File \u001b[0;32m/Library/Frameworks/Python.framework/Versions/3.11/lib/python3.11/site-packages/onnxmltools/convert/main.py:137\u001b[0m, in \u001b[0;36mconvert_lightgbm\u001b[0;34m(model, name, initial_types, doc_string, target_opset, targeted_onnx, custom_conversion_functions, custom_shape_calculators, without_onnx_ml, zipmap, split)\u001b[0m\n\u001b[1;32m    134\u001b[0m     \u001b[38;5;28;01mraise\u001b[39;00m \u001b[38;5;167;01mRuntimeError\u001b[39;00m(\u001b[38;5;124m'\u001b[39m\u001b[38;5;124mlightgbm is not installed. Please install lightgbm to use this feature.\u001b[39m\u001b[38;5;124m'\u001b[39m)\n\u001b[1;32m    136\u001b[0m \u001b[38;5;28;01mfrom\u001b[39;00m \u001b[38;5;21;01m.\u001b[39;00m\u001b[38;5;21;01mlightgbm\u001b[39;00m\u001b[38;5;21;01m.\u001b[39;00m\u001b[38;5;21;01mconvert\u001b[39;00m \u001b[38;5;28;01mimport\u001b[39;00m convert\n\u001b[0;32m--> 137\u001b[0m \u001b[38;5;28;01mreturn\u001b[39;00m \u001b[43mconvert\u001b[49m\u001b[43m(\u001b[49m\u001b[43mmodel\u001b[49m\u001b[43m,\u001b[49m\u001b[43m \u001b[49m\u001b[43mname\u001b[49m\u001b[43m,\u001b[49m\u001b[43m \u001b[49m\u001b[43minitial_types\u001b[49m\u001b[43m,\u001b[49m\u001b[43m \u001b[49m\u001b[43mdoc_string\u001b[49m\u001b[43m,\u001b[49m\u001b[43m \u001b[49m\u001b[43mtarget_opset\u001b[49m\u001b[43m,\u001b[49m\u001b[43m \u001b[49m\u001b[43mtargeted_onnx\u001b[49m\u001b[43m,\u001b[49m\n\u001b[1;32m    138\u001b[0m \u001b[43m               \u001b[49m\u001b[43mcustom_conversion_functions\u001b[49m\u001b[43m,\u001b[49m\u001b[43m \u001b[49m\u001b[43mcustom_shape_calculators\u001b[49m\u001b[43m,\u001b[49m\u001b[43m \u001b[49m\u001b[43mwithout_onnx_ml\u001b[49m\u001b[43m,\u001b[49m\n\u001b[1;32m    139\u001b[0m \u001b[43m               \u001b[49m\u001b[43mzipmap\u001b[49m\u001b[38;5;241;43m=\u001b[39;49m\u001b[43mzipmap\u001b[49m\u001b[43m,\u001b[49m\u001b[43m \u001b[49m\u001b[43msplit\u001b[49m\u001b[38;5;241;43m=\u001b[39;49m\u001b[43msplit\u001b[49m\u001b[43m)\u001b[49m\n",
      "File \u001b[0;32m/Library/Frameworks/Python.framework/Versions/3.11/lib/python3.11/site-packages/onnxmltools/convert/lightgbm/convert.py:67\u001b[0m, in \u001b[0;36mconvert\u001b[0;34m(model, name, initial_types, doc_string, target_opset, targeted_onnx, custom_conversion_functions, custom_shape_calculators, without_onnx_ml, zipmap, split)\u001b[0m\n\u001b[1;32m     64\u001b[0m topology \u001b[38;5;241m=\u001b[39m parse_lightgbm(model, initial_types, target_opset, custom_conversion_functions,\n\u001b[1;32m     65\u001b[0m                           custom_shape_calculators, zipmap\u001b[38;5;241m=\u001b[39mzipmap, split\u001b[38;5;241m=\u001b[39msplit)\n\u001b[1;32m     66\u001b[0m topology\u001b[38;5;241m.\u001b[39mcompile()\n\u001b[0;32m---> 67\u001b[0m onnx_ml_model \u001b[38;5;241m=\u001b[39m \u001b[43mconvert_topology\u001b[49m\u001b[43m(\u001b[49m\u001b[43mtopology\u001b[49m\u001b[43m,\u001b[49m\u001b[43m \u001b[49m\u001b[43mname\u001b[49m\u001b[43m,\u001b[49m\u001b[43m \u001b[49m\u001b[43mdoc_string\u001b[49m\u001b[43m,\u001b[49m\u001b[43m \u001b[49m\u001b[43mtarget_opset\u001b[49m\u001b[43m,\u001b[49m\u001b[43m \u001b[49m\u001b[43mtargeted_onnx\u001b[49m\u001b[43m)\u001b[49m\n\u001b[1;32m     69\u001b[0m \u001b[38;5;28;01mif\u001b[39;00m without_onnx_ml:\n\u001b[1;32m     70\u001b[0m     \u001b[38;5;28;01mif\u001b[39;00m zipmap:\n",
      "File \u001b[0;32m/Library/Frameworks/Python.framework/Versions/3.11/lib/python3.11/site-packages/onnxconverter_common/topology.py:776\u001b[0m, in \u001b[0;36mconvert_topology\u001b[0;34m(topology, model_name, doc_string, target_opset, targeted_onnx, channel_first_inputs)\u001b[0m\n\u001b[1;32m    773\u001b[0m         topology\u001b[38;5;241m.\u001b[39mcustom_conversion_functions[operator\u001b[38;5;241m.\u001b[39mtype](scope, operator, container)\n\u001b[1;32m    774\u001b[0m     \u001b[38;5;28;01melse\u001b[39;00m:\n\u001b[1;32m    775\u001b[0m         \u001b[38;5;66;03m# Convert the selected operator into some ONNX objects and save them into the container\u001b[39;00m\n\u001b[0;32m--> 776\u001b[0m         \u001b[43mget_converter\u001b[49m\u001b[43m(\u001b[49m\u001b[43moperator\u001b[49m\u001b[38;5;241;43m.\u001b[39;49m\u001b[43mtype\u001b[49m\u001b[43m)\u001b[49m\u001b[43m(\u001b[49m\u001b[43mscope\u001b[49m\u001b[43m,\u001b[49m\u001b[43m \u001b[49m\u001b[43moperator\u001b[49m\u001b[43m,\u001b[49m\u001b[43m \u001b[49m\u001b[43mcontainer\u001b[49m\u001b[43m)\u001b[49m\n\u001b[1;32m    778\u001b[0m \u001b[38;5;66;03m# When calling ModelComponentContainer's add_initializer(...), nothing is added into the input list.\u001b[39;00m\n\u001b[1;32m    779\u001b[0m \u001b[38;5;66;03m# However, for ONNX target opset < 9, initializers should also be model's (GraphProto) inputs.\u001b[39;00m\n\u001b[1;32m    780\u001b[0m \u001b[38;5;66;03m# Thus, we create ValueInfoProto objects from initializers (type: TensorProto) directly and\u001b[39;00m\n\u001b[1;32m    781\u001b[0m \u001b[38;5;66;03m# then add them into model's input list.\u001b[39;00m\n\u001b[1;32m    782\u001b[0m extra_inputs \u001b[38;5;241m=\u001b[39m []  \u001b[38;5;66;03m# ValueInfoProto list of the initializers\u001b[39;00m\n",
      "File \u001b[0;32m/Library/Frameworks/Python.framework/Versions/3.11/lib/python3.11/site-packages/onnxmltools/convert/lightgbm/operator_converters/LightGbm.py:432\u001b[0m, in \u001b[0;36mconvert_lightgbm\u001b[0;34m(scope, operator, container)\u001b[0m\n\u001b[1;32m    430\u001b[0m verbose \u001b[38;5;241m=\u001b[39m \u001b[38;5;28mgetattr\u001b[39m(container, \u001b[38;5;124m'\u001b[39m\u001b[38;5;124mverbose\u001b[39m\u001b[38;5;124m'\u001b[39m, \u001b[38;5;241m0\u001b[39m)\n\u001b[1;32m    431\u001b[0m gbm_model \u001b[38;5;241m=\u001b[39m operator\u001b[38;5;241m.\u001b[39mraw_operator\n\u001b[0;32m--> 432\u001b[0m gbm_text, info \u001b[38;5;241m=\u001b[39m \u001b[43mdump_booster_model\u001b[49m\u001b[43m(\u001b[49m\u001b[43mgbm_model\u001b[49m\u001b[38;5;241;43m.\u001b[39;49m\u001b[43mbooster_\u001b[49m\u001b[43m,\u001b[49m\u001b[43m \u001b[49m\u001b[43mverbose\u001b[49m\u001b[38;5;241;43m=\u001b[39;49m\u001b[43mverbose\u001b[49m\u001b[43m)\u001b[49m\n\u001b[1;32m    433\u001b[0m modify_tree_for_rule_in_set(gbm_text, use_float\u001b[38;5;241m=\u001b[39m\u001b[38;5;28;01mTrue\u001b[39;00m, verbose\u001b[38;5;241m=\u001b[39mverbose, info\u001b[38;5;241m=\u001b[39minfo)\n\u001b[1;32m    435\u001b[0m attrs \u001b[38;5;241m=\u001b[39m get_default_tree_classifier_attribute_pairs()\n",
      "File \u001b[0;32m/Library/Frameworks/Python.framework/Versions/3.11/lib/python3.11/site-packages/onnxmltools/convert/lightgbm/operator_converters/LightGbm.py:267\u001b[0m, in \u001b[0;36mdump_booster_model\u001b[0;34m(self, num_iteration, start_iteration, importance_type, verbose)\u001b[0m\n\u001b[1;32m    265\u001b[0m \u001b[38;5;28;01mif\u001b[39;00m \u001b[38;5;28mgetattr\u001b[39m(\u001b[38;5;28mself\u001b[39m, \u001b[38;5;124m'\u001b[39m\u001b[38;5;124mis_mock\u001b[39m\u001b[38;5;124m'\u001b[39m, \u001b[38;5;28;01mFalse\u001b[39;00m):\n\u001b[1;32m    266\u001b[0m     \u001b[38;5;28;01mreturn\u001b[39;00m \u001b[38;5;28mself\u001b[39m\u001b[38;5;241m.\u001b[39mdump_model(), \u001b[38;5;28;01mNone\u001b[39;00m\n\u001b[0;32m--> 267\u001b[0m \u001b[38;5;28;01mfrom\u001b[39;00m \u001b[38;5;21;01mlightgbm\u001b[39;00m\u001b[38;5;21;01m.\u001b[39;00m\u001b[38;5;21;01mbasic\u001b[39;00m \u001b[38;5;28;01mimport\u001b[39;00m (\n\u001b[1;32m    268\u001b[0m     _LIB, FEATURE_IMPORTANCE_TYPE_MAPPER, _safe_call,\n\u001b[1;32m    269\u001b[0m     json_default_with_numpy)\n\u001b[1;32m    270\u001b[0m \u001b[38;5;28;01mif\u001b[39;00m num_iteration \u001b[38;5;129;01mis\u001b[39;00m \u001b[38;5;28;01mNone\u001b[39;00m:\n\u001b[1;32m    271\u001b[0m     num_iteration \u001b[38;5;241m=\u001b[39m \u001b[38;5;28mself\u001b[39m\u001b[38;5;241m.\u001b[39mbest_iteration\n",
      "\u001b[0;31mImportError\u001b[0m: cannot import name 'FEATURE_IMPORTANCE_TYPE_MAPPER' from 'lightgbm.basic' (/Library/Frameworks/Python.framework/Versions/3.11/lib/python3.11/site-packages/lightgbm/basic.py)"
     ]
    }
   ],
   "source": [
    "import onnxmltools\n",
    "from onnxmltools.convert import convert_lightgbm\n",
    "from skl2onnx.common.data_types import FloatTensorType\n",
    "\n",
    "features=str(clf.feature_name_)\n",
    "initial_types = [('input', FloatTensorType([1, X_train.shape[1]]))]\n",
    "onnx_model = convert_lightgbm(clf, initial_types=initial_types, zipmap=False)\n",
    "\n"
   ]
  },
  {
   "cell_type": "code",
   "execution_count": 45,
   "metadata": {},
   "outputs": [
    {
     "ename": "NameError",
     "evalue": "name 'onnx_model' is not defined",
     "output_type": "error",
     "traceback": [
      "\u001b[0;31m---------------------------------------------------------------------------\u001b[0m",
      "\u001b[0;31mNameError\u001b[0m                                 Traceback (most recent call last)",
      "Cell \u001b[0;32mIn[45], line 2\u001b[0m\n\u001b[1;32m      1\u001b[0m \u001b[38;5;66;03m# Save as protobuf\u001b[39;00m\n\u001b[0;32m----> 2\u001b[0m onnxmltools\u001b[38;5;241m.\u001b[39mutils\u001b[38;5;241m.\u001b[39msave_model(\u001b[43monnx_model\u001b[49m, \u001b[38;5;124m'\u001b[39m\u001b[38;5;124mtest.onnx\u001b[39m\u001b[38;5;124m'\u001b[39m)\n",
      "\u001b[0;31mNameError\u001b[0m: name 'onnx_model' is not defined"
     ]
    }
   ],
   "source": [
    "# Save as protobuf\n",
    "onnxmltools.utils.save_model(onnx_model, 'test.onnx')"
   ]
  }
 ],
 "metadata": {
  "kernelspec": {
   "display_name": "Python 3 (ipykernel)",
   "language": "python",
   "name": "python3"
  },
  "language_info": {
   "codemirror_mode": {
    "name": "ipython",
    "version": 3
   },
   "file_extension": ".py",
   "mimetype": "text/x-python",
   "name": "python",
   "nbconvert_exporter": "python",
   "pygments_lexer": "ipython3",
   "version": "3.11.5"
  }
 },
 "nbformat": 4,
 "nbformat_minor": 2
}
