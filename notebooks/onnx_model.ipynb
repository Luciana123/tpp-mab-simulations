{
 "cells": [
  {
   "cell_type": "code",
   "execution_count": 53,
   "metadata": {
    "ExecuteTime": {
     "end_time": "2023-09-21T19:47:05.022152Z",
     "start_time": "2023-09-21T19:47:04.983742Z"
    }
   },
   "outputs": [
    {
     "name": "stdout",
     "output_type": "stream",
     "text": [
      "   Age  Is_Female  Is_Male  Is_Other  Is_Morning  Is_Noon  Is_Evening  \\\n",
      "0   59          1        0         0           1        1           0   \n",
      "1   32          1        1         1           1        0           1   \n",
      "2   58          1        0         0           0        1           0   \n",
      "3   46          1        0         1           1        0           1   \n",
      "4   59          0        0         0           0        1           1   \n",
      "\n",
      "   Is_Night  Click  \n",
      "0         1      1  \n",
      "1         0      1  \n",
      "2         0      0  \n",
      "3         1      0  \n",
      "4         1      1  \n"
     ]
    }
   ],
   "source": [
    "import pandas as pd\n",
    "import random\n",
    "\n",
    "# First generate a random dataset with 3 features: age, gender and daytime, each point is either click or no click.\n",
    "def generate_random_dataset():\n",
    "    data = pd.DataFrame()\n",
    "\n",
    "    num_data_points = 1000000\n",
    "\n",
    "    ages = [random.randint(18, 60) for _ in range(num_data_points)]\n",
    "    is_fem = [random.choice([0,1]) for _ in range(num_data_points)]\n",
    "    is_other = [random.choice([0,1]) for _ in range(num_data_points)]\n",
    "    is_male = [random.choice([0,1]) for _ in range(num_data_points)]\n",
    "\n",
    "    is_morning = [random.choice([0,1]) for _ in range(num_data_points)]\n",
    "    is_noon = [random.choice([0,1]) for _ in range(num_data_points)]\n",
    "    is_evening = [random.choice([0,1]) for _ in range(num_data_points)]\n",
    "    is_night = [random.choice([0,1]) for _ in range(num_data_points)]\n",
    "\n",
    "    clicks = [random.choice([0, 1]) for _ in range(num_data_points)]\n",
    "\n",
    "    data['Age'] = ages\n",
    "    data['Is_Female'] = is_fem\n",
    "    data['Is_Male'] = is_male\n",
    "    data['Is_Other'] = is_other\n",
    "    data['Is_Morning'] = is_morning\n",
    "    data['Is_Noon'] = is_noon\n",
    "    data['Is_Evening'] = is_evening\n",
    "    data['Is_Night'] = is_night\n",
    "    data['Click'] = clicks\n",
    "    return data\n",
    "\n",
    "\n",
    "\n",
    "data = generate_random_dataset()\n",
    "\n",
    "print(data.head())"
   ]
  },
  {
   "cell_type": "code",
   "execution_count": 56,
   "metadata": {
    "ExecuteTime": {
     "end_time": "2023-09-21T19:44:45.269348Z",
     "start_time": "2023-09-21T19:44:44.819385Z"
    }
   },
   "outputs": [
    {
     "name": "stdout",
     "output_type": "stream",
     "text": [
      "Accuracy: 0.49817\n",
      "Classification Report:\n",
      "               precision    recall  f1-score   support\n",
      "\n",
      "           0       0.50      0.46      0.48     99881\n",
      "           1       0.50      0.54      0.52    100119\n",
      "\n",
      "    accuracy                           0.50    200000\n",
      "   macro avg       0.50      0.50      0.50    200000\n",
      "weighted avg       0.50      0.50      0.50    200000\n",
      "\n",
      "[0 1]\n"
     ]
    }
   ],
   "source": [
    "import lightgbm as lgb\n",
    "from sklearn.model_selection import train_test_split\n",
    "from sklearn.metrics import accuracy_score, classification_report\n",
    "\n",
    "def separate_dataset(dataset):\n",
    "    X = dataset[['Age', 'Is_Female', 'Is_Male', 'Is_Other', 'Is_Morning', 'Is_Noon', 'Is_Evening', 'Is_Night']]\n",
    "    y = dataset['Click']\n",
    "    X_train, X_test, y_train, y_test = train_test_split(X, y, test_size=0.2, random_state=42)\n",
    "    return (X_train, X_test, y_train, y_test)\n",
    "\n",
    "def train_lightgbm_model(X_train, y_train):\n",
    "    clf = lgb.LGBMClassifier()\n",
    "    clf.fit(X_train, y_train)\n",
    "    return clf\n",
    "\n",
    "X_train, X_test, y_train, y_test = separate_dataset(data)\n",
    "clf = train_lightgbm_model(X_train, y_train)\n",
    "# Make predictions on the test data\n",
    "y_pred = clf.predict(X_test)\n",
    "\n",
    "# Convert predicted probabilities to binary class labels (0 or 1)\n",
    "y_pred_binary = [1 if p >= 0.5 else 0 for p in y_pred]\n",
    "\n",
    "# Evaluate the model\n",
    "accuracy = accuracy_score(y_test, y_pred_binary)\n",
    "report = classification_report(y_test, y_pred_binary)\n",
    "\n",
    "print(f\"Accuracy: {accuracy}\")\n",
    "print(\"Classification Report:\\n\", report)\n",
    "\n",
    "class_labels = clf.classes_\n",
    "print(class_labels)"
   ]
  },
  {
   "cell_type": "code",
   "execution_count": 13,
   "metadata": {},
   "outputs": [
    {
     "data": {
      "text/plain": [
       "['Age',\n",
       " 'Is_Female',\n",
       " 'Is_Male',\n",
       " 'Is_Other',\n",
       " 'Is_Morning',\n",
       " 'Is_Noon',\n",
       " 'Is_Evening',\n",
       " 'Is_Night']"
      ]
     },
     "execution_count": 13,
     "metadata": {},
     "output_type": "execute_result"
    }
   ],
   "source": [
    "clf.feature_name_"
   ]
  },
  {
   "cell_type": "code",
   "execution_count": 14,
   "metadata": {
    "scrolled": true
   },
   "outputs": [],
   "source": [
    "import onnxmltools\n",
    "from onnxmltools.convert import convert_lightgbm\n",
    "from skl2onnx.common.data_types import FloatTensorType\n",
    "from lightgbm import LGBMClassifier\n",
    "\n",
    "def transform_to_onnx(clf: LGBMClassifier):\n",
    "    features=str(clf.feature_name_)\n",
    "    initial_types = [('input', FloatTensorType([1, X_train.shape[1]]))]\n",
    "    onnx_model = convert_lightgbm(clf, initial_types=initial_types, zipmap=False)\n",
    "    return onnx_model"
   ]
  },
  {
   "cell_type": "code",
   "execution_count": 15,
   "metadata": {},
   "outputs": [
    {
     "name": "stderr",
     "output_type": "stream",
     "text": [
      "The maximum opset needed by this model is only 9.\n"
     ]
    }
   ],
   "source": [
    "onnx_model = transform_to_onnx(clf)\n",
    "# Save as protobuf\n",
    "onnxmltools.utils.save_model(onnx_model, 'a_branch.onnx')"
   ]
  },
  {
   "cell_type": "code",
   "execution_count": 16,
   "metadata": {},
   "outputs": [
    {
     "name": "stderr",
     "output_type": "stream",
     "text": [
      "The maximum opset needed by this model is only 9.\n",
      "The maximum opset needed by this model is only 9.\n",
      "The maximum opset needed by this model is only 9.\n"
     ]
    }
   ],
   "source": [
    "# generate several random models for some branches\n",
    "dataset = generate_random_dataset()\n",
    "X_train, X_test, y_train, y_test = separate_dataset(dataset)\n",
    "clf = train_lightgbm_model(X_train, y_train)\n",
    "onnx_model = transform_to_onnx(clf)\n",
    "onnxmltools.utils.save_model(onnx_model, 'a_branch.onnx')\n",
    "\n",
    "# generate several random models for some branches\n",
    "dataset = generate_random_dataset()\n",
    "X_train, X_test, y_train, y_test = separate_dataset(dataset)\n",
    "clf = train_lightgbm_model(X_train, y_train)\n",
    "onnx_model = transform_to_onnx(clf)\n",
    "onnxmltools.utils.save_model(onnx_model, 'b_branch.onnx')\n",
    "\n",
    "# generate several random models for some branches\n",
    "dataset = generate_random_dataset()\n",
    "X_train, X_test, y_train, y_test = separate_dataset(dataset)\n",
    "clf = train_lightgbm_model(X_train, y_train)\n",
    "onnx_model = transform_to_onnx(clf)\n",
    "onnxmltools.utils.save_model(onnx_model, 'c_branch.onnx')"
   ]
  },
  {
   "cell_type": "code",
   "execution_count": 13,
   "metadata": {},
   "outputs": [
    {
     "name": "stdout",
     "output_type": "stream",
     "text": [
      "The ONNX model is valid.\n"
     ]
    },
    {
     "data": {
      "text/plain": [
       "[name: \"label\"\n",
       "type {\n",
       "  tensor_type {\n",
       "    elem_type: 7\n",
       "    shape {\n",
       "      dim {\n",
       "        dim_value: 1\n",
       "      }\n",
       "    }\n",
       "  }\n",
       "}\n",
       ", name: \"probabilities\"\n",
       "type {\n",
       "  tensor_type {\n",
       "    elem_type: 1\n",
       "    shape {\n",
       "      dim {\n",
       "      }\n",
       "      dim {\n",
       "        dim_value: 2\n",
       "      }\n",
       "    }\n",
       "  }\n",
       "}\n",
       "]"
      ]
     },
     "execution_count": 13,
     "metadata": {},
     "output_type": "execute_result"
    }
   ],
   "source": [
    "import onnx\n",
    "# Load the ONNX model from the file\n",
    "model = onnx.load(\"a_branch.onnx\")\n",
    "\n",
    "# Check the model for validity\n",
    "try:\n",
    "    onnx.checker.check_model(model)\n",
    "    print(\"The ONNX model is valid.\")\n",
    "except onnx.onnx_cpp2py_export.checker.ValidationError as e:\n",
    "    print(f\"Validation error: {e}\")\n",
    "\n",
    "output = model.graph.output\n",
    "output"
   ]
  },
  {
   "cell_type": "code",
   "execution_count": 48,
   "metadata": {},
   "outputs": [
    {
     "name": "stdout",
     "output_type": "stream",
     "text": [
      "[[30.  0.  1.  0.  1.  0.  0.  0.]]\n",
      "[[50.  0.  1.  0.  1.  1.  1.  1.]]\n"
     ]
    },
    {
     "data": {
      "text/plain": [
       "[array([[0.50190496, 0.49809504]], dtype=float32),\n",
       " array([0], dtype=int64),\n",
       " array([[0.49987113, 0.50012887]], dtype=float32),\n",
       " array([1], dtype=int64)]"
      ]
     },
     "execution_count": 48,
     "metadata": {},
     "output_type": "execute_result"
    }
   ],
   "source": [
    "import numpy as np \n",
    "\n",
    "input_data = [\n",
    "    {\n",
    "        'Age': 30.0,\n",
    "        'Is_Female': 0.0,\n",
    "        'Is_Male': 1.0,\n",
    "        'Is_Other': 0.0,\n",
    "        'Is_Morning': 1.0,\n",
    "        'Is_Noon': 0.0,\n",
    "        'Is_Evening': 0.0,\n",
    "        'Is_Night': 0.0\n",
    "    },\n",
    "    {\n",
    "        'Age': 50.0,\n",
    "        'Is_Female': 0.0,\n",
    "        'Is_Male': 1.0,\n",
    "        'Is_Other': 0.0,\n",
    "        'Is_Morning': 1.0,\n",
    "        'Is_Noon': 1.0,\n",
    "        'Is_Evening': 1.0,\n",
    "        'Is_Night': 1.0\n",
    "    },\n",
    "    # Add more input samples if needed\n",
    "]\n",
    "import onnxruntime as ort\n",
    "\n",
    "enabled_providers = ['AzureExecutionProvider', 'CPUExecutionProvider']\n",
    "\n",
    "# Load the ONNX model with ONNX Runtime\n",
    "sess = ort.InferenceSession(\"a_branch.onnx\", providers=enabled_providers)\n",
    "\n",
    "# Make predictions for each input sample\n",
    "predictions = []\n",
    "for sample in input_data:\n",
    "    input_name = \"input\"  # Assuming a single input\n",
    "    input_values = [sample[feature] for feature in [ 'Age','Is_Female','Is_Male','Is_Other','Is_Morning','Is_Noon','Is_Evening','Is_Night']]  \n",
    "    \n",
    "    input_values = np.array([input_values], dtype=np.float32)\n",
    "    print(input_values)\n",
    "    \n",
    "    output_name = \"probabilities\" \n",
    "    output_l = \"label\"\n",
    "    result = sess.run([output_name, output_l], {input_name: input_values})\n",
    "    predictions.append(result[0])\n",
    "    predictions.append(result[1])\n",
    "    \n",
    "\n",
    "predictions"
   ]
  },
  {
   "cell_type": "code",
   "execution_count": 51,
   "metadata": {},
   "outputs": [
    {
     "name": "stdout",
     "output_type": "stream",
     "text": [
      "input\n",
      "NodeArg(name='probabilities', type='tensor(float)', shape=[None, 2])\n"
     ]
    }
   ],
   "source": [
    "input_name = sess.get_inputs()[0].name\n",
    "output_name = sess.get_outputs()[1].name\n",
    "\n",
    "print(input_name)\n",
    "print(sess.get_outputs()[1])"
   ]
  }
 ],
 "metadata": {
  "kernelspec": {
   "display_name": "Python 3 (ipykernel)",
   "language": "python",
   "name": "python3"
  },
  "language_info": {
   "codemirror_mode": {
    "name": "ipython",
    "version": 3
   },
   "file_extension": ".py",
   "mimetype": "text/x-python",
   "name": "python",
   "nbconvert_exporter": "python",
   "pygments_lexer": "ipython3",
   "version": "3.11.5"
  }
 },
 "nbformat": 4,
 "nbformat_minor": 2
}
