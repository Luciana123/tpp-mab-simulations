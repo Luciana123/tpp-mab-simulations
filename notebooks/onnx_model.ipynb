{
 "cells": [
  {
   "cell_type": "code",
   "execution_count": 3,
   "metadata": {
    "ExecuteTime": {
     "end_time": "2023-09-21T19:47:05.022152Z",
     "start_time": "2023-09-21T19:47:04.983742Z"
    }
   },
   "outputs": [
    {
     "name": "stdout",
     "output_type": "stream",
     "text": [
      "   Age  Is_Female  Is_Male  Is_Other  Is_Morning  Is_Noon  Is_Evening  \\\n",
      "0   48          1        1         1           1        0           1   \n",
      "1   36          1        1         0           0        0           0   \n",
      "2   47          0        0         1           0        1           0   \n",
      "3   20          0        1         0           0        0           1   \n",
      "4   56          1        0         1           1        0           1   \n",
      "\n",
      "   Is_Night  Click  \n",
      "0         0      1  \n",
      "1         1      1  \n",
      "2         1      0  \n",
      "3         1      1  \n",
      "4         1      0  \n"
     ]
    }
   ],
   "source": [
    "import pandas as pd\n",
    "import random\n",
    "\n",
    "# First generate a random dataset with 3 features: age, gender and daytime, each point is either click or no click.\n",
    "def generate_random_dataset():\n",
    "    data = pd.DataFrame()\n",
    "\n",
    "    num_data_points = 1000000\n",
    "\n",
    "    ages = [random.randint(18, 60) for _ in range(num_data_points)]\n",
    "    is_fem = [random.choice([0,1]) for _ in range(num_data_points)]\n",
    "    is_other = [random.choice([0,1]) for _ in range(num_data_points)]\n",
    "    is_male = [random.choice([0,1]) for _ in range(num_data_points)]\n",
    "\n",
    "    is_morning = [random.choice([0,1]) for _ in range(num_data_points)]\n",
    "    is_noon = [random.choice([0,1]) for _ in range(num_data_points)]\n",
    "    is_evening = [random.choice([0,1]) for _ in range(num_data_points)]\n",
    "    is_night = [random.choice([0,1]) for _ in range(num_data_points)]\n",
    "\n",
    "    clicks = [random.choice([0, 1]) for _ in range(num_data_points)]\n",
    "\n",
    "    data['Age'] = ages\n",
    "    data['Is_Female'] = is_fem\n",
    "    data['Is_Male'] = is_male\n",
    "    data['Is_Other'] = is_other\n",
    "    data['Is_Morning'] = is_morning\n",
    "    data['Is_Noon'] = is_noon\n",
    "    data['Is_Evening'] = is_evening\n",
    "    data['Is_Night'] = is_night\n",
    "    data['Click'] = clicks\n",
    "    return data\n",
    "\n",
    "data = generate_random_dataset()\n",
    "\n",
    "print(data.head())"
   ]
  },
  {
   "cell_type": "code",
   "execution_count": 12,
   "metadata": {
    "ExecuteTime": {
     "end_time": "2023-09-21T19:44:45.269348Z",
     "start_time": "2023-09-21T19:44:44.819385Z"
    }
   },
   "outputs": [
    {
     "name": "stdout",
     "output_type": "stream",
     "text": [
      "Accuracy: 0.500965\n",
      "Classification Report:\n",
      "               precision    recall  f1-score   support\n",
      "\n",
      "           0       0.50      0.51      0.51    100272\n",
      "           1       0.50      0.49      0.50     99728\n",
      "\n",
      "    accuracy                           0.50    200000\n",
      "   macro avg       0.50      0.50      0.50    200000\n",
      "weighted avg       0.50      0.50      0.50    200000\n",
      "\n"
     ]
    }
   ],
   "source": [
    "import lightgbm as lgb\n",
    "from sklearn.model_selection import train_test_split\n",
    "from sklearn.metrics import accuracy_score, classification_report\n",
    "\n",
    "def separate_dataset(dataset):\n",
    "    X = dataset[['Age', 'Is_Female', 'Is_Male', 'Is_Other', 'Is_Morning', 'Is_Noon', 'Is_Evening', 'Is_Night']]\n",
    "    y = dataset['Click']\n",
    "    X_train, X_test, y_train, y_test = train_test_split(X, y, test_size=0.2, random_state=42)\n",
    "    return (X_train, X_test, y_train, y_test)\n",
    "\n",
    "def train_lightgbm_model(X_train, y_train):\n",
    "    clf = lgb.LGBMClassifier()\n",
    "    clf.fit(X_train, y_train)\n",
    "    return clf\n",
    "\n",
    "X_train, X_test, y_train, y_test = separate_dataset(data)\n",
    "clf = train_lightgbm_model(X_train, y_train)\n",
    "# Make predictions on the test data\n",
    "y_pred = clf.predict(X_test)\n",
    "\n",
    "# Convert predicted probabilities to binary class labels (0 or 1)\n",
    "y_pred_binary = [1 if p >= 0.5 else 0 for p in y_pred]\n",
    "\n",
    "# Evaluate the model\n",
    "accuracy = accuracy_score(y_test, y_pred_binary)\n",
    "report = classification_report(y_test, y_pred_binary)\n",
    "\n",
    "print(f\"Accuracy: {accuracy}\")\n",
    "print(\"Classification Report:\\n\", report)"
   ]
  },
  {
   "cell_type": "code",
   "execution_count": 13,
   "metadata": {},
   "outputs": [
    {
     "data": {
      "text/plain": [
       "['Age',\n",
       " 'Is_Female',\n",
       " 'Is_Male',\n",
       " 'Is_Other',\n",
       " 'Is_Morning',\n",
       " 'Is_Noon',\n",
       " 'Is_Evening',\n",
       " 'Is_Night']"
      ]
     },
     "execution_count": 13,
     "metadata": {},
     "output_type": "execute_result"
    }
   ],
   "source": [
    "clf.feature_name_"
   ]
  },
  {
   "cell_type": "code",
   "execution_count": 14,
   "metadata": {
    "scrolled": true
   },
   "outputs": [],
   "source": [
    "import onnxmltools\n",
    "from onnxmltools.convert import convert_lightgbm\n",
    "from skl2onnx.common.data_types import FloatTensorType\n",
    "from lightgbm import LGBMClassifier\n",
    "\n",
    "def transform_to_onnx(clf: LGBMClassifier):\n",
    "    features=str(clf.feature_name_)\n",
    "    initial_types = [('input', FloatTensorType([1, X_train.shape[1]]))]\n",
    "    onnx_model = convert_lightgbm(clf, initial_types=initial_types, zipmap=False)\n",
    "    return onnx_model"
   ]
  },
  {
   "cell_type": "code",
   "execution_count": 15,
   "metadata": {},
   "outputs": [
    {
     "name": "stderr",
     "output_type": "stream",
     "text": [
      "The maximum opset needed by this model is only 9.\n"
     ]
    }
   ],
   "source": [
    "onnx_model = transform_to_onnx(clf)\n",
    "# Save as protobuf\n",
    "onnxmltools.utils.save_model(onnx_model, 'a_branch.onnx')"
   ]
  },
  {
   "cell_type": "code",
   "execution_count": 16,
   "metadata": {},
   "outputs": [
    {
     "name": "stderr",
     "output_type": "stream",
     "text": [
      "The maximum opset needed by this model is only 9.\n",
      "The maximum opset needed by this model is only 9.\n",
      "The maximum opset needed by this model is only 9.\n"
     ]
    }
   ],
   "source": [
    "# generate several random models for some branches\n",
    "dataset = generate_random_dataset()\n",
    "X_train, X_test, y_train, y_test = separate_dataset(dataset)\n",
    "clf = train_lightgbm_model(X_train, y_train)\n",
    "onnx_model = transform_to_onnx(clf)\n",
    "onnxmltools.utils.save_model(onnx_model, 'a_branch.onnx')\n",
    "\n",
    "# generate several random models for some branches\n",
    "dataset = generate_random_dataset()\n",
    "X_train, X_test, y_train, y_test = separate_dataset(dataset)\n",
    "clf = train_lightgbm_model(X_train, y_train)\n",
    "onnx_model = transform_to_onnx(clf)\n",
    "onnxmltools.utils.save_model(onnx_model, 'b_branch.onnx')\n",
    "\n",
    "# generate several random models for some branches\n",
    "dataset = generate_random_dataset()\n",
    "X_train, X_test, y_train, y_test = separate_dataset(dataset)\n",
    "clf = train_lightgbm_model(X_train, y_train)\n",
    "onnx_model = transform_to_onnx(clf)\n",
    "onnxmltools.utils.save_model(onnx_model, 'c_branch.onnx')"
   ]
  }
 ],
 "metadata": {
  "kernelspec": {
   "display_name": "Python 3 (ipykernel)",
   "language": "python",
   "name": "python3"
  },
  "language_info": {
   "codemirror_mode": {
    "name": "ipython",
    "version": 3
   },
   "file_extension": ".py",
   "mimetype": "text/x-python",
   "name": "python",
   "nbconvert_exporter": "python",
   "pygments_lexer": "ipython3",
   "version": "3.11.5"
  }
 },
 "nbformat": 4,
 "nbformat_minor": 2
}
