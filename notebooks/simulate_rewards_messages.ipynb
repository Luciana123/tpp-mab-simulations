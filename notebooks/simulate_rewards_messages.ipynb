{
 "cells": [
  {
   "cell_type": "code",
   "execution_count": 286,
   "id": "830367de",
   "metadata": {},
   "outputs": [],
   "source": [
    "import pika\n",
    "import uuid\n",
    "import random\n",
    "import json\n",
    "from datetime import datetime, timezone"
   ]
  },
  {
   "cell_type": "code",
   "execution_count": 287,
   "id": "6becc243",
   "metadata": {},
   "outputs": [],
   "source": [
    "rabbitmq_host = 'localhost'\n",
    "rabbitmq_port = 5672  # Default RabbitMQ port\n",
    "rabbitmq_username = 'jackpotAdmin'\n",
    "rabbitmq_password = 'jackpotPassword'\n",
    "rabbitmq_queue = 'reward-queue'"
   ]
  },
  {
   "cell_type": "code",
   "execution_count": 288,
   "id": "a393d88e",
   "metadata": {},
   "outputs": [],
   "source": [
    "credentials = pika.PlainCredentials(username=rabbitmq_username, password=rabbitmq_password)\n",
    "connection_params = pika.ConnectionParameters(host=rabbitmq_host, port=rabbitmq_port, credentials=credentials)"
   ]
  },
  {
   "cell_type": "code",
   "execution_count": 289,
   "id": "7c720e04",
   "metadata": {},
   "outputs": [],
   "source": [
    "experiment_id = \"1-EG\"\n",
    "arms = [\"picture_1\", \"picture_2\"]"
   ]
  },
  {
   "cell_type": "code",
   "execution_count": 290,
   "id": "43cf897f",
   "metadata": {},
   "outputs": [],
   "source": [
    "# Send arm pulled and reward obtained messages"
   ]
  },
  {
   "cell_type": "code",
   "execution_count": 291,
   "id": "c84ed270",
   "metadata": {},
   "outputs": [],
   "source": [
    "def get_current_utc_timestamp():\n",
    "    current_utc_time = datetime.utcnow().replace(tzinfo=timezone.utc)\n",
    "    formatted_timestamp = current_utc_time.strftime(\"%Y-%m-%dT%H:%M:%S.%f\")[:-3] + \"Z\"\n",
    "    return formatted_timestamp"
   ]
  },
  {
   "cell_type": "code",
   "execution_count": 804,
   "id": "1b60ba23",
   "metadata": {},
   "outputs": [],
   "source": [
    " \n",
    "arm_selected = random.choice(arms)\n",
    "sess_id = uuid.uuid4()\n",
    "reward = random.choice([0,1])\n",
    "\n",
    "same_timestamp = get_current_utc_timestamp()\n",
    "\n",
    "message_body = {\n",
    "    \"reward\": {\n",
    "        \"arm_selected\": arm_selected,\n",
    "        \"experiment_id\": experiment_id,\n",
    "        \"session_id\": str(sess_id),\n",
    "        \"timestamp\": same_timestamp,\n",
    "        \"context\": {\n",
    "            \"1\": \"0\",\n",
    "            \"2\": \"1\",\n",
    "            \"3\": \"0\", \n",
    "            \"4\": \"1\", \n",
    "            \"5\": \"1\", \n",
    "            \"6\": \"0\", \n",
    "            \"7\": \"1\", \n",
    "            \"8\": \"1\"\n",
    "        }\n",
    "    },\n",
    "    \"operation\": \"create\"\n",
    "}\n",
    "\n",
    "connection = pika.BlockingConnection(connection_params)\n",
    "channel = connection.channel()\n",
    "channel.basic_publish(exchange='', routing_key=rabbitmq_queue, body=json.dumps(message_body))\n",
    "\n",
    "\n",
    "collected_reward_message_body = {\n",
    "    \"reward\": {\n",
    "        \"experiment_id\": experiment_id,\n",
    "        \"session_id\": str(sess_id),\n",
    "        \"reward\": reward,\n",
    "        \"arm_selected\": arm_selected,\n",
    "        \"timestamp\": same_timestamp\n",
    "    },\n",
    "    \"operation\": \"update\"\n",
    "}\n",
    "\n",
    "connection = pika.BlockingConnection(connection_params)\n",
    "channel = connection.channel()\n",
    "channel.basic_publish(exchange='', routing_key=rabbitmq_queue, body=json.dumps(collected_reward_message_body))"
   ]
  },
  {
   "cell_type": "code",
   "execution_count": 46,
   "id": "ac6b2e62",
   "metadata": {},
   "outputs": [],
   "source": [
    "connection.close()"
   ]
  }
 ],
 "metadata": {
  "kernelspec": {
   "display_name": "Python 3 (ipykernel)",
   "language": "python",
   "name": "python3"
  },
  "language_info": {
   "codemirror_mode": {
    "name": "ipython",
    "version": 3
   },
   "file_extension": ".py",
   "mimetype": "text/x-python",
   "name": "python",
   "nbconvert_exporter": "python",
   "pygments_lexer": "ipython3",
   "version": "3.11.5"
  }
 },
 "nbformat": 4,
 "nbformat_minor": 5
}
