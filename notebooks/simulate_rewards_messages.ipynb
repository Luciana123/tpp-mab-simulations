{
 "cells": [
  {
   "cell_type": "code",
   "execution_count": 1,
   "id": "830367de",
   "metadata": {},
   "outputs": [],
   "source": [
    "import pika\n",
    "import uuid\n",
    "import random\n",
    "import json\n",
    "from datetime import datetime, timezone"
   ]
  },
  {
   "cell_type": "code",
   "execution_count": 2,
   "id": "6becc243",
   "metadata": {},
   "outputs": [],
   "source": [
    "rabbitmq_host = 'localhost'\n",
    "rabbitmq_port = 5672  # Default RabbitMQ port\n",
    "rabbitmq_username = 'jackpotAdmin'\n",
    "rabbitmq_password = 'jackpotPassword'\n",
    "rabbitmq_queue = 'reward-queue'"
   ]
  },
  {
   "cell_type": "code",
   "execution_count": 3,
   "id": "a393d88e",
   "metadata": {},
   "outputs": [],
   "source": [
    "credentials = pika.PlainCredentials(username=rabbitmq_username, password=rabbitmq_password)\n",
    "connection_params = pika.ConnectionParameters(host=rabbitmq_host, port=rabbitmq_port, credentials=credentials)"
   ]
  },
  {
   "cell_type": "code",
   "execution_count": 6,
   "id": "7c720e04",
   "metadata": {},
   "outputs": [],
   "source": [
    "experiment_id = \"2-feats-eg\"\n",
    "arms = [\"option1\", \"option2\", \"option3\", \"option4\"]"
   ]
  },
  {
   "cell_type": "code",
   "execution_count": 136,
   "id": "43cf897f",
   "metadata": {},
   "outputs": [],
   "source": [
    "# Send arm pulled and reward obtained messages"
   ]
  },
  {
   "cell_type": "code",
   "execution_count": 7,
   "id": "c84ed270",
   "metadata": {},
   "outputs": [],
   "source": [
    "def get_current_utc_timestamp():\n",
    "    current_utc_time = datetime.utcnow().replace(tzinfo=timezone.utc)\n",
    "    formatted_timestamp = current_utc_time.strftime(\"%Y-%m-%dT%H:%M:%S.%f\")[:-3] + \"Z\"\n",
    "    return formatted_timestamp"
   ]
  },
  {
   "cell_type": "code",
   "execution_count": 8,
   "id": "1b60ba23",
   "metadata": {},
   "outputs": [
    {
     "ename": "KeyboardInterrupt",
     "evalue": "",
     "output_type": "error",
     "traceback": [
      "\u001b[0;31m---------------------------------------------------------------------------\u001b[0m",
      "\u001b[0;31mKeyboardInterrupt\u001b[0m                         Traceback (most recent call last)",
      "\u001b[1;32m/Users/luciana.piazzi/Facultad/jackpot-mab/simulations/notebooks/simulate_rewards_messages.ipynb Cell 7\u001b[0m line \u001b[0;36m3\n\u001b[1;32m      <a href='vscode-notebook-cell:/Users/luciana.piazzi/Facultad/jackpot-mab/simulations/notebooks/simulate_rewards_messages.ipynb#W6sZmlsZQ%3D%3D?line=0'>1</a>\u001b[0m \u001b[39mfrom\u001b[39;00m \u001b[39mtime\u001b[39;00m \u001b[39mimport\u001b[39;00m sleep\n\u001b[1;32m      <a href='vscode-notebook-cell:/Users/luciana.piazzi/Facultad/jackpot-mab/simulations/notebooks/simulate_rewards_messages.ipynb#W6sZmlsZQ%3D%3D?line=1'>2</a>\u001b[0m \u001b[39mfor\u001b[39;00m i \u001b[39min\u001b[39;00m \u001b[39mrange\u001b[39m(\u001b[39m10000\u001b[39m): \n\u001b[0;32m----> <a href='vscode-notebook-cell:/Users/luciana.piazzi/Facultad/jackpot-mab/simulations/notebooks/simulate_rewards_messages.ipynb#W6sZmlsZQ%3D%3D?line=2'>3</a>\u001b[0m     sleep(\u001b[39m0.2\u001b[39;49m)\n\u001b[1;32m      <a href='vscode-notebook-cell:/Users/luciana.piazzi/Facultad/jackpot-mab/simulations/notebooks/simulate_rewards_messages.ipynb#W6sZmlsZQ%3D%3D?line=3'>4</a>\u001b[0m     arm_selected \u001b[39m=\u001b[39m random\u001b[39m.\u001b[39mchoices(arms, weights\u001b[39m=\u001b[39m(\u001b[39m10\u001b[39m, \u001b[39m10\u001b[39m, \u001b[39m10\u001b[39m, \u001b[39m70\u001b[39m), k\u001b[39m=\u001b[39m\u001b[39m1\u001b[39m)[\u001b[39m0\u001b[39m]\n\u001b[1;32m      <a href='vscode-notebook-cell:/Users/luciana.piazzi/Facultad/jackpot-mab/simulations/notebooks/simulate_rewards_messages.ipynb#W6sZmlsZQ%3D%3D?line=4'>5</a>\u001b[0m     sess_id \u001b[39m=\u001b[39m uuid\u001b[39m.\u001b[39muuid4()\n",
      "\u001b[0;31mKeyboardInterrupt\u001b[0m: "
     ]
    }
   ],
   "source": [
    "from time import sleep\n",
    "for i in range(10000): \n",
    "    sleep(0.2)\n",
    "    arm_selected = random.choices(arms, weights=(10, 10, 10, 70), k=1)[0]\n",
    "    sess_id = uuid.uuid4()\n",
    "    reward = random.choice([1, 1, 1, 1, 1, 1, 1, 0, 0, 0])\n",
    "\n",
    "    same_timestamp = get_current_utc_timestamp()\n",
    "\n",
    "    message_body = {\n",
    "        \"reward\": {\n",
    "            \"arm_selected\": arm_selected,\n",
    "            \"experiment_id\": experiment_id,\n",
    "            \"session_id\": str(sess_id),\n",
    "            \"timestamp\": same_timestamp,\n",
    "            \"context\": {\n",
    "                \"age\": \"90\",\n",
    "                \"is_female\": \"1\"\n",
    "            }\n",
    "        },\n",
    "        \"operation\": \"create\"\n",
    "    }\n",
    "\n",
    "    connection = pika.BlockingConnection(connection_params)\n",
    "    channel = connection.channel()\n",
    "    channel.basic_publish(exchange='', routing_key=rabbitmq_queue, body=json.dumps(message_body))\n",
    "\n",
    "    if reward == 1:\n",
    "        collected_reward_message_body = {\n",
    "            \"reward\": {\n",
    "                \"experiment_id\": experiment_id,\n",
    "                \"session_id\": str(sess_id),\n",
    "                \"reward\": reward,\n",
    "                \"arm_selected\": arm_selected,\n",
    "                \"timestamp\": same_timestamp\n",
    "            },\n",
    "            \"operation\": \"update\"\n",
    "        }\n",
    "\n",
    "        connection = pika.BlockingConnection(connection_params)\n",
    "        channel = connection.channel()\n",
    "        channel.basic_publish(exchange='', routing_key=rabbitmq_queue, body=json.dumps(collected_reward_message_body))"
   ]
  },
  {
   "cell_type": "code",
   "execution_count": 37,
   "id": "ac6b2e62",
   "metadata": {},
   "outputs": [],
   "source": [
    "connection.close()"
   ]
  }
 ],
 "metadata": {
  "kernelspec": {
   "display_name": "Python 3 (ipykernel)",
   "language": "python",
   "name": "python3"
  },
  "language_info": {
   "codemirror_mode": {
    "name": "ipython",
    "version": 3
   },
   "file_extension": ".py",
   "mimetype": "text/x-python",
   "name": "python",
   "nbconvert_exporter": "python",
   "pygments_lexer": "ipython3",
   "version": "3.10.13"
  }
 },
 "nbformat": 4,
 "nbformat_minor": 5
}
