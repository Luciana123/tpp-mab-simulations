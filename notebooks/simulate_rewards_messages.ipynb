{
 "cells": [
  {
   "cell_type": "code",
   "execution_count": 17,
   "id": "e17204d1",
   "metadata": {},
   "outputs": [],
   "source": [
    "import pika\n",
    "import uuid\n",
    "import random\n",
    "import json"
   ]
  },
  {
   "cell_type": "code",
   "execution_count": 5,
   "id": "5222db82",
   "metadata": {},
   "outputs": [],
   "source": [
    "rabbitmq_host = 'localhost'\n",
    "rabbitmq_port = 5672  # Default RabbitMQ port\n",
    "rabbitmq_username = 'jackpotAdmin'\n",
    "rabbitmq_password = 'jackpotPassword'\n",
    "rabbitmq_queue = 'reward-queue'"
   ]
  },
  {
   "cell_type": "code",
   "execution_count": 6,
   "id": "810a2b68",
   "metadata": {},
   "outputs": [],
   "source": [
    "credentials = pika.PlainCredentials(username=rabbitmq_username, password=rabbitmq_password)\n",
    "connection_params = pika.ConnectionParameters(host=rabbitmq_host, port=rabbitmq_port, credentials=credentials)"
   ]
  },
  {
   "cell_type": "code",
   "execution_count": 10,
   "id": "10ce4630",
   "metadata": {},
   "outputs": [],
   "source": [
    "experiment_id = \"1-EG\"\n",
    "arms = [\"picture_1\", \"picture_2\"]"
   ]
  },
  {
   "cell_type": "code",
   "execution_count": 11,
   "id": "b78138e3",
   "metadata": {},
   "outputs": [],
   "source": [
    "# Send arm pulled and reward obtained messages"
   ]
  },
  {
   "cell_type": "code",
   "execution_count": 43,
   "id": "62400681",
   "metadata": {},
   "outputs": [],
   "source": [
    "arm_selected = random.choice(arms)\n",
    "sess_id = uuid.uuid4()\n",
    "\n",
    "message_body = {\n",
    "    \"reward\": {\n",
    "        \"arm_selected\": arm_selected,\n",
    "        \"experiment_id\": experiment_id,\n",
    "        \"session_id\": str(sess_id),\n",
    "        \"timestamp\": \"2023-12-08T12:34:56.789Z\",\n",
    "        \"context\": {\n",
    "            \"1\": \"0\",\n",
    "            \"2\": \"1\",\n",
    "            \"3\": \"0\", \n",
    "            \"4\": \"1\", \n",
    "            \"5\": \"1\", \n",
    "            \"6\": \"0\", \n",
    "            \"7\": \"1\", \n",
    "            \"8\": \"1\"\n",
    "        }\n",
    "    },\n",
    "    \"operation\": \"create\"\n",
    "}\n",
    "\n",
    "connection = pika.BlockingConnection(connection_params)\n",
    "channel = connection.channel()\n",
    "channel.basic_publish(exchange='', routing_key=rabbitmq_queue, body=json.dumps(message_body))\n",
    "\n",
    "\n",
    "collected_reward_message_body = {\n",
    "    \"reward\": {\n",
    "        \"experiment_id\": experiment_id,\n",
    "        \"session_id\": str(sess_id),\n",
    "        \"timestamp\": \"2023-12-08T12:34:56.789Z\"\n",
    "    },\n",
    "    \"operation\": \"update\"\n",
    "}\n",
    "\n",
    "connection = pika.BlockingConnection(connection_params)\n",
    "channel = connection.channel()\n",
    "channel.basic_publish(exchange='', routing_key=rabbitmq_queue, body=json.dumps(collected_reward_message_body))"
   ]
  },
  {
   "cell_type": "code",
   "execution_count": null,
   "id": "6d69c54c",
   "metadata": {},
   "outputs": [],
   "source": [
    "connection.close()"
   ]
  }
 ],
 "metadata": {
  "kernelspec": {
   "display_name": "Python 3 (ipykernel)",
   "language": "python",
   "name": "python3"
  },
  "language_info": {
   "codemirror_mode": {
    "name": "ipython",
    "version": 3
   },
   "file_extension": ".py",
   "mimetype": "text/x-python",
   "name": "python",
   "nbconvert_exporter": "python",
   "pygments_lexer": "ipython3",
   "version": "3.11.5"
  }
 },
 "nbformat": 4,
 "nbformat_minor": 5
}
